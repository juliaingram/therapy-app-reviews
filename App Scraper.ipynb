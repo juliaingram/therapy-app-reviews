{
 "cells": [
  {
   "cell_type": "markdown",
   "id": "1679bfbb",
   "metadata": {},
   "source": [
    "# Scraping Teletherapy App Data from the Apple App Store\n",
    "\n",
    "This notebook uses the app_store_scraper package to scrape the Apple app store for the reviews of 10 digital therapy apps to examine issues and risks associated with them. It also uses the sklearn, pystemmer and eli5 packages to build a classifer to predict whether users who wrote 1-star and 2-star reviews on 6 of the 10 apps expressed that they were unfairly charged, had an unresponsive therapist, or an unhelpful therapist. \n",
    "\n",
    "Apps were selected based on search results for \"therapy\" and \"CBT\" on the app store, as well as online reviews of mental health apps. The dataframe containing their names and ids is manually created here."
   ]
  },
  {
   "cell_type": "markdown",
   "id": "bbf7d4ef",
   "metadata": {},
   "source": [
    "## Imports"
   ]
  },
  {
   "cell_type": "code",
   "execution_count": null,
   "id": "36f50bf3",
   "metadata": {},
   "outputs": [],
   "source": [
    "!pip install itunes-app-scraper-dmi==0.9.4\n",
    "!pip install app-store-scraper==0.3.5"
   ]
  },
  {
   "cell_type": "code",
   "execution_count": 101,
   "id": "63263566",
   "metadata": {},
   "outputs": [],
   "source": [
    "import pandas as pd\n",
    "\n",
    "from itunes_app_scraper.scraper import AppStoreScraper\n",
    "from app_store_scraper import AppStore\n",
    "\n",
    "import time\n",
    "import re\n",
    "\n",
    "import requests\n",
    "from plotnine import * "
   ]
  },
  {
   "cell_type": "code",
   "execution_count": 297,
   "id": "77a11aee",
   "metadata": {},
   "outputs": [],
   "source": [
    "pd.set_option('display.max_columns', None)\n",
    "pd.set_option(\"display.max_colwidth\", 300)"
   ]
  },
  {
   "cell_type": "markdown",
   "id": "f17b2e74",
   "metadata": {},
   "source": [
    "## Building dataframe of 10 apps \n",
    "\n",
    "This section builds a dataframe of the therapy apps to analyze from the App Store website (https://www.apple.com/app-store/). The names and ids of the apps are in each of their App store URLs\n",
    "\n",
    "The apps are:\n",
    "- [Talkspace](https://apps.apple.com/us/app/talkspace-therapy-counseling/id661829386) \n",
    "- [Betterhelp](https://apps.apple.com/us/app/betterhelp-therapy/id995252384)\n",
    "- [Wysa](https://apps.apple.com/us/app/wysa-mental-health-support/id1166585565)\n",
    "- [Bloom](https://apps.apple.com/us/app/bloom-cbt-therapy-self-care/id1475128511)\n",
    "- [7 Cups](https://apps.apple.com/us/app/7-cups-online-therapy-chat/id921814681)\n",
    "- [Sanvella](https://apps.apple.com/us/app/sanvello-anxiety-depression/id922968861)\n",
    "- [WoeBot](https://apps.apple.com/us/app/woebot-your-self-care-expert/id1305375832) \n",
    "- [Larkr](https://apps.apple.com/us/app/larkr-on-demand-video-therapy/id1253710426)\n",
    "- [Youper](https://apps.apple.com/us/app/youper-online-therapy/id1060691513)\n",
    "- [Cerebral](https://apps.apple.com/us/app/cerebral-mental-health/id1537193671)"
   ]
  },
  {
   "cell_type": "code",
   "execution_count": 43,
   "id": "0744bd77",
   "metadata": {},
   "outputs": [],
   "source": [
    "app_names_ids = [\n",
    "    {'name':'talkspace-therapy-counseling',\n",
    "    'id': 661829386},\n",
    "    {'name':'betterhelp-therapy',\n",
    "    'id':995252384},\n",
    "    {'name': 'wysa-mental-health-support',\n",
    "    'id':1166585565},\n",
    "    {'name': 'bloom-cbt-therapy-self-care',\n",
    "    'id':1475128511},\n",
    "    {'name': '7-cups-online-therapy-chat',\n",
    "    'id':921814681},\n",
    "    {'name': 'sanvello-anxiety-depression',\n",
    "    'id':922968861},\n",
    "    {'name': 'woebot-your-self-care-expert',\n",
    "    'id':1305375832},\n",
    "    {'name': 'larkr-on-demand-video-therapy',\n",
    "    'id':1253710426},\n",
    "    {'name':'youper-online-therapy',\n",
    "    'id':1060691513},\n",
    "    {'name': 'cerebral-mental-health',\n",
    "    'id':1537193671}]"
   ]
  },
  {
   "cell_type": "code",
   "execution_count": 44,
   "id": "1ac19aab",
   "metadata": {},
   "outputs": [],
   "source": [
    "therapy_apps = pd.DataFrame(app_names_ids)"
   ]
  },
  {
   "cell_type": "code",
   "execution_count": 45,
   "id": "581317ed",
   "metadata": {},
   "outputs": [
    {
     "data": {
      "text/html": [
       "<div>\n",
       "<style scoped>\n",
       "    .dataframe tbody tr th:only-of-type {\n",
       "        vertical-align: middle;\n",
       "    }\n",
       "\n",
       "    .dataframe tbody tr th {\n",
       "        vertical-align: top;\n",
       "    }\n",
       "\n",
       "    .dataframe thead th {\n",
       "        text-align: right;\n",
       "    }\n",
       "</style>\n",
       "<table border=\"1\" class=\"dataframe\">\n",
       "  <thead>\n",
       "    <tr style=\"text-align: right;\">\n",
       "      <th></th>\n",
       "      <th>name</th>\n",
       "      <th>id</th>\n",
       "    </tr>\n",
       "  </thead>\n",
       "  <tbody>\n",
       "    <tr>\n",
       "      <th>0</th>\n",
       "      <td>talkspace-therapy-counseling</td>\n",
       "      <td>661829386</td>\n",
       "    </tr>\n",
       "    <tr>\n",
       "      <th>1</th>\n",
       "      <td>betterhelp-therapy</td>\n",
       "      <td>995252384</td>\n",
       "    </tr>\n",
       "    <tr>\n",
       "      <th>2</th>\n",
       "      <td>wysa-mental-health-support</td>\n",
       "      <td>1166585565</td>\n",
       "    </tr>\n",
       "    <tr>\n",
       "      <th>3</th>\n",
       "      <td>bloom-cbt-therapy-self-care</td>\n",
       "      <td>1475128511</td>\n",
       "    </tr>\n",
       "    <tr>\n",
       "      <th>4</th>\n",
       "      <td>7-cups-online-therapy-chat</td>\n",
       "      <td>921814681</td>\n",
       "    </tr>\n",
       "    <tr>\n",
       "      <th>5</th>\n",
       "      <td>sanvello-anxiety-depression</td>\n",
       "      <td>922968861</td>\n",
       "    </tr>\n",
       "    <tr>\n",
       "      <th>6</th>\n",
       "      <td>woebot-your-self-care-expert</td>\n",
       "      <td>1305375832</td>\n",
       "    </tr>\n",
       "    <tr>\n",
       "      <th>7</th>\n",
       "      <td>larkr-on-demand-video-therapy</td>\n",
       "      <td>1253710426</td>\n",
       "    </tr>\n",
       "    <tr>\n",
       "      <th>8</th>\n",
       "      <td>youper-online-therapy</td>\n",
       "      <td>1060691513</td>\n",
       "    </tr>\n",
       "    <tr>\n",
       "      <th>9</th>\n",
       "      <td>cerebral-mental-health</td>\n",
       "      <td>1537193671</td>\n",
       "    </tr>\n",
       "  </tbody>\n",
       "</table>\n",
       "</div>"
      ],
      "text/plain": [
       "                            name          id\n",
       "0   talkspace-therapy-counseling   661829386\n",
       "1             betterhelp-therapy   995252384\n",
       "2     wysa-mental-health-support  1166585565\n",
       "3    bloom-cbt-therapy-self-care  1475128511\n",
       "4     7-cups-online-therapy-chat   921814681\n",
       "5    sanvello-anxiety-depression   922968861\n",
       "6   woebot-your-self-care-expert  1305375832\n",
       "7  larkr-on-demand-video-therapy  1253710426\n",
       "8          youper-online-therapy  1060691513\n",
       "9         cerebral-mental-health  1537193671"
      ]
     },
     "execution_count": 45,
     "metadata": {},
     "output_type": "execute_result"
    }
   ],
   "source": [
    "therapy_apps"
   ]
  },
  {
   "cell_type": "markdown",
   "id": "8e09fa53",
   "metadata": {},
   "source": [
    "## Scraping reviews for the apps"
   ]
  },
  {
   "cell_type": "code",
   "execution_count": null,
   "id": "7fb441c3",
   "metadata": {},
   "outputs": [],
   "source": [
    "all_reviews = []\n",
    "for app in app_names_ids:\n",
    "    my_app = AppStore(\n",
    "      country='us',       \n",
    "      app_name=app['name'], \n",
    "      app_id=app['id']    \n",
    "    ) \n",
    "\n",
    "    my_app.review(\n",
    "      how_many=1500,\n",
    "      after=pd.to_datetime('2020-01-01'),\n",
    "      sleep=1,\n",
    "    )\n",
    "    \n",
    "    reviews = my_app.reviews\n",
    "    \n",
    "    for review in reviews:\n",
    "        review['app_name'] = app['name']\n",
    "        review['app_id'] = app['id']\n",
    "        \n",
    "    reviews_df = pd.DataFrame(reviews)\n",
    "    all_reviews.append(reviews_df)\n",
    "    time.sleep(5)"
   ]
  },
  {
   "cell_type": "code",
   "execution_count": 47,
   "id": "335af361",
   "metadata": {},
   "outputs": [],
   "source": [
    "all_reviews_df = pd.concat(all_reviews)"
   ]
  },
  {
   "cell_type": "markdown",
   "id": "47deda36",
   "metadata": {},
   "source": [
    "## Analysis"
   ]
  },
  {
   "cell_type": "code",
   "execution_count": 48,
   "id": "372e0838",
   "metadata": {},
   "outputs": [
    {
     "data": {
      "text/html": [
       "<div>\n",
       "<style scoped>\n",
       "    .dataframe tbody tr th:only-of-type {\n",
       "        vertical-align: middle;\n",
       "    }\n",
       "\n",
       "    .dataframe tbody tr th {\n",
       "        vertical-align: top;\n",
       "    }\n",
       "\n",
       "    .dataframe thead th {\n",
       "        text-align: right;\n",
       "    }\n",
       "</style>\n",
       "<table border=\"1\" class=\"dataframe\">\n",
       "  <thead>\n",
       "    <tr style=\"text-align: right;\">\n",
       "      <th></th>\n",
       "      <th>rating</th>\n",
       "      <th>isEdited</th>\n",
       "      <th>developerResponse</th>\n",
       "      <th>userName</th>\n",
       "      <th>date</th>\n",
       "      <th>review</th>\n",
       "      <th>title</th>\n",
       "      <th>app_name</th>\n",
       "      <th>app_id</th>\n",
       "    </tr>\n",
       "  </thead>\n",
       "  <tbody>\n",
       "    <tr>\n",
       "      <th>0</th>\n",
       "      <td>4</td>\n",
       "      <td>False</td>\n",
       "      <td>{'id': 27789946, 'body': 'Hi there, thank you ...</td>\n",
       "      <td>Gab_Stan</td>\n",
       "      <td>2022-01-30 16:15:22</td>\n",
       "      <td>I always wanted to try therapy but wasn’t sure...</td>\n",
       "      <td>Online therapy during a pandemic is extremely ...</td>\n",
       "      <td>talkspace-therapy-counseling</td>\n",
       "      <td>661829386</td>\n",
       "    </tr>\n",
       "    <tr>\n",
       "      <th>1</th>\n",
       "      <td>1</td>\n",
       "      <td>False</td>\n",
       "      <td>{'id': 26038969, 'body': 'Hi there, thank you ...</td>\n",
       "      <td>texasbaby27</td>\n",
       "      <td>2021-10-29 13:00:33</td>\n",
       "      <td>Give me all of my money back. I don’t write ap...</td>\n",
       "      <td>Refund. Me. Now.</td>\n",
       "      <td>talkspace-therapy-counseling</td>\n",
       "      <td>661829386</td>\n",
       "    </tr>\n",
       "    <tr>\n",
       "      <th>2</th>\n",
       "      <td>1</td>\n",
       "      <td>True</td>\n",
       "      <td>{'id': 25748189, 'body': 'Hi there, thank you ...</td>\n",
       "      <td>Person adjusnduwjxuwiud</td>\n",
       "      <td>2021-11-28 16:16:18</td>\n",
       "      <td>I paid hundreds of dollars just for my psychia...</td>\n",
       "      <td>NOT SAFE! Please do not use!!!</td>\n",
       "      <td>talkspace-therapy-counseling</td>\n",
       "      <td>661829386</td>\n",
       "    </tr>\n",
       "    <tr>\n",
       "      <th>3</th>\n",
       "      <td>1</td>\n",
       "      <td>False</td>\n",
       "      <td>{'id': 25725582, 'body': 'Hi there, thank you ...</td>\n",
       "      <td>newbreviewb</td>\n",
       "      <td>2021-10-13 14:42:30</td>\n",
       "      <td>I signed up for this app on Saturday, searched...</td>\n",
       "      <td>Complete and total silence</td>\n",
       "      <td>talkspace-therapy-counseling</td>\n",
       "      <td>661829386</td>\n",
       "    </tr>\n",
       "    <tr>\n",
       "      <th>4</th>\n",
       "      <td>1</td>\n",
       "      <td>False</td>\n",
       "      <td>NaN</td>\n",
       "      <td>starrienightsz</td>\n",
       "      <td>2022-02-09 18:36:59</td>\n",
       "      <td>This app is a joke. I’ve never had any issues ...</td>\n",
       "      <td>Only do it if your employer sponsors it</td>\n",
       "      <td>talkspace-therapy-counseling</td>\n",
       "      <td>661829386</td>\n",
       "    </tr>\n",
       "  </tbody>\n",
       "</table>\n",
       "</div>"
      ],
      "text/plain": [
       "   rating  isEdited                                  developerResponse  \\\n",
       "0       4     False  {'id': 27789946, 'body': 'Hi there, thank you ...   \n",
       "1       1     False  {'id': 26038969, 'body': 'Hi there, thank you ...   \n",
       "2       1      True  {'id': 25748189, 'body': 'Hi there, thank you ...   \n",
       "3       1     False  {'id': 25725582, 'body': 'Hi there, thank you ...   \n",
       "4       1     False                                                NaN   \n",
       "\n",
       "                  userName                date  \\\n",
       "0                 Gab_Stan 2022-01-30 16:15:22   \n",
       "1              texasbaby27 2021-10-29 13:00:33   \n",
       "2  Person adjusnduwjxuwiud 2021-11-28 16:16:18   \n",
       "3              newbreviewb 2021-10-13 14:42:30   \n",
       "4           starrienightsz 2022-02-09 18:36:59   \n",
       "\n",
       "                                              review  \\\n",
       "0  I always wanted to try therapy but wasn’t sure...   \n",
       "1  Give me all of my money back. I don’t write ap...   \n",
       "2  I paid hundreds of dollars just for my psychia...   \n",
       "3  I signed up for this app on Saturday, searched...   \n",
       "4  This app is a joke. I’ve never had any issues ...   \n",
       "\n",
       "                                               title  \\\n",
       "0  Online therapy during a pandemic is extremely ...   \n",
       "1                                   Refund. Me. Now.   \n",
       "2                     NOT SAFE! Please do not use!!!   \n",
       "3                         Complete and total silence   \n",
       "4            Only do it if your employer sponsors it   \n",
       "\n",
       "                       app_name     app_id  \n",
       "0  talkspace-therapy-counseling  661829386  \n",
       "1  talkspace-therapy-counseling  661829386  \n",
       "2  talkspace-therapy-counseling  661829386  \n",
       "3  talkspace-therapy-counseling  661829386  \n",
       "4  talkspace-therapy-counseling  661829386  "
      ]
     },
     "execution_count": 48,
     "metadata": {},
     "output_type": "execute_result"
    }
   ],
   "source": [
    "all_reviews_df.head()"
   ]
  },
  {
   "cell_type": "code",
   "execution_count": 49,
   "id": "fb29927a",
   "metadata": {},
   "outputs": [
    {
     "data": {
      "text/plain": [
       "5    5985\n",
       "1    1869\n",
       "4     639\n",
       "2     375\n",
       "3     307\n",
       "Name: rating, dtype: int64"
      ]
     },
     "execution_count": 49,
     "metadata": {},
     "output_type": "execute_result"
    }
   ],
   "source": [
    "all_reviews_df.rating.value_counts()"
   ]
  },
  {
   "cell_type": "code",
   "execution_count": null,
   "id": "94ae61dc",
   "metadata": {},
   "outputs": [],
   "source": [
    "all_reviews_df.to_csv('scraped_reviews.csv')"
   ]
  },
  {
   "cell_type": "markdown",
   "id": "58a498f9",
   "metadata": {},
   "source": [
    "### Insurance issues\n",
    "\n",
    "Talkspace has 82 insurance related 1-star ratings"
   ]
  },
  {
   "cell_type": "code",
   "execution_count": 96,
   "id": "88206a4e",
   "metadata": {},
   "outputs": [],
   "source": [
    "insurance_woes = []\n",
    "for count, review in enumerate(list(all_reviews_df.review)):\n",
    "    reviews = review.split('. ')\n",
    "    matches = [sentence for sentence in reviews if re.findall('insurance', sentence, re.IGNORECASE)]\n",
    "    if len(matches) != 0:\n",
    "        woe = {}\n",
    "        woe['review'] = matches\n",
    "        woe['app_name'] = all_reviews_df.iat[count,7]\n",
    "        woe['rating'] = all_reviews_df.iat[count,0]\n",
    "        insurance_woes.append(woe)"
   ]
  },
  {
   "cell_type": "code",
   "execution_count": 221,
   "id": "3d189883",
   "metadata": {
    "scrolled": true
   },
   "outputs": [],
   "source": [
    "insurance_woes = pd.DataFrame(insurance_woes)"
   ]
  },
  {
   "cell_type": "code",
   "execution_count": 222,
   "id": "4ef07b2c",
   "metadata": {},
   "outputs": [],
   "source": [
    "insurance_woes['rating_str'] = insurance_woes.rating.astype(str)"
   ]
  },
  {
   "cell_type": "code",
   "execution_count": 230,
   "id": "71528f7d",
   "metadata": {},
   "outputs": [
    {
     "data": {
      "image/png": "[encoded data removed]",
      "text/plain": [
       "<Figure size 640x480 with 1 Axes>"
      ]
     },
     "metadata": {},
     "output_type": "display_data"
    },
    {
     "data": {
      "text/plain": [
       "<ggplot: (330265588)>"
      ]
     },
     "metadata": {},
     "output_type": "display_data"
    }
   ],
   "source": [
    "display(\n",
    "    ggplot(insurance_woes)\n",
    "    + geom_bar(aes('app_name', fill='rating_str'))\n",
    "    + coord_flip()\n",
    "    + labs(title='Talkspace, Cerebral users encounter insurance issues', \n",
    "           fill='Rating',\n",
    "           x='App',\n",
    "           y='Number of Reviews')\n",
    ")"
   ]
  },
  {
   "cell_type": "code",
   "execution_count": 147,
   "id": "65e40071",
   "metadata": {
    "scrolled": true
   },
   "outputs": [
    {
     "data": {
      "text/plain": [
       "betterhelp-therapy              1512\n",
       "woebot-your-self-care-expert    1505\n",
       "youper-online-therapy           1504\n",
       "talkspace-therapy-counseling    1149\n",
       "wysa-mental-health-support      1045\n",
       "cerebral-mental-health           753\n",
       "sanvello-anxiety-depression      691\n",
       "bloom-cbt-therapy-self-care      676\n",
       "7-cups-online-therapy-chat       340\n",
       "Name: app_name, dtype: int64"
      ]
     },
     "execution_count": 147,
     "metadata": {},
     "output_type": "execute_result"
    }
   ],
   "source": [
    "all_reviews_df.app_name.value_counts()"
   ]
  },
  {
   "cell_type": "code",
   "execution_count": 486,
   "id": "dc17498b",
   "metadata": {},
   "outputs": [],
   "source": [
    "review_counts = all_reviews_df.app_name.value_counts().reset_index(name='total')"
   ]
  },
  {
   "cell_type": "code",
   "execution_count": 490,
   "id": "f0f91742",
   "metadata": {},
   "outputs": [],
   "source": [
    "review_counts.rename(columns={'index':'app_name'},inplace=True)"
   ]
  },
  {
   "cell_type": "markdown",
   "id": "1b0aae50",
   "metadata": {},
   "source": [
    "Re-styling the visualization in DataWrapper"
   ]
  },
  {
   "cell_type": "code",
   "execution_count": 482,
   "id": "6a6d46a1",
   "metadata": {},
   "outputs": [],
   "source": [
    "reformatted = insurance_woes.groupby(['app_name', 'rating']).size().reset_index(name='num_reviews')\\\n",
    "                .pivot(index='rating', columns='app_name', values='num_reviews')"
   ]
  },
  {
   "cell_type": "code",
   "execution_count": 495,
   "id": "e29dfe25",
   "metadata": {},
   "outputs": [],
   "source": [
    "reformatted = reformatted[['betterhelp-therapy', 'cerebral-mental-health', 'sanvello-anxiety-depression', 'talkspace-therapy-counseling']]"
   ]
  },
  {
   "cell_type": "code",
   "execution_count": 497,
   "id": "46dcb4ea",
   "metadata": {},
   "outputs": [],
   "source": [
    "reformatted.to_csv('insurance-chart-data.csv')"
   ]
  },
  {
   "cell_type": "markdown",
   "id": "edae9236",
   "metadata": {},
   "source": [
    "<img src=insurance.png>"
   ]
  },
  {
   "cell_type": "markdown",
   "id": "9b02c4f2",
   "metadata": {},
   "source": [
    "### Suicidal ideation\n",
    "\n",
    "At least three reviewers mentioned they were contemplating suicide in a negative review"
   ]
  },
  {
   "cell_type": "code",
   "execution_count": 345,
   "id": "f463d391",
   "metadata": {},
   "outputs": [],
   "source": [
    "suicidial_ideation = []\n",
    "for count, review in enumerate(list(all_reviews_df.review)):\n",
    "    reviews = review.split('. ')\n",
    "    matches = [sentence for sentence in reviews if re.findall('end it all|kill myself|suicide', sentence, re.IGNORECASE)]\n",
    "    if len(matches) != 0:\n",
    "        match = {}\n",
    "        match['review'] = matches\n",
    "        match['app_name'] = all_reviews_df.iat[count,7]\n",
    "        match['rating'] = all_reviews_df.iat[count,0]\n",
    "        suicidial_ideation.append(match)"
   ]
  },
  {
   "cell_type": "code",
   "execution_count": 346,
   "id": "218febe1",
   "metadata": {},
   "outputs": [
    {
     "data": {
      "text/plain": [
       "[{'review': ['because i mentioned i had PASSIVE thoughts about suicide, they wouldn’t help me'],\n",
       "  'app_name': 'talkspace-therapy-counseling',\n",
       "  'rating': 1},\n",
       " {'review': ['This app is terrible because you have to pay to prevent suicide makes sense'],\n",
       "  'app_name': 'talkspace-therapy-counseling',\n",
       "  'rating': 1},\n",
       " {'review': ['The only  number provided to help you is the suicide prevention hotline'],\n",
       "  'app_name': 'betterhelp-therapy',\n",
       "  'rating': 1},\n",
       " {'review': ['My son was 20 and committed suicide after a painful 2 years due to psychosis as a result of a trauma'],\n",
       "  'app_name': 'betterhelp-therapy',\n",
       "  'rating': 5},\n",
       " {'review': ['I was the closest to suicide I think I’d ever gotten, and no one knew'],\n",
       "  'app_name': 'wysa-mental-health-support',\n",
       "  'rating': 5},\n",
       " {'review': ['My uncle committed suicide I felt like I needed a therapist but I couldn’t because of coronavirus around so I found this and it has been helping me so much with my stress and anxiety.'],\n",
       "  'app_name': 'wysa-mental-health-support',\n",
       "  'rating': 5},\n",
       " {'review': [\"At this point i feel like my only option is to just end it all because i'm so tired of suffering\"],\n",
       "  'app_name': 'wysa-mental-health-support',\n",
       "  'rating': 1},\n",
       " {'review': ['I started a using it recently when I was/am in a really bad state heavily considering suicide and this changed my view of my self'],\n",
       "  'app_name': 'wysa-mental-health-support',\n",
       "  'rating': 5},\n",
       " {'review': ['listeners can give you a referral to a crisis/suicide hotline if you are looking for one but they are not trained to handle them'],\n",
       "  'app_name': '7-cups-online-therapy-chat',\n",
       "  'rating': 4},\n",
       " {'review': ['Now, I couldn’t end the chat without knowing that that member of mine called the suicide hotline',\n",
       "   'And, so, please I also beg of you to give your listeners some suicide training...'],\n",
       "  'app_name': '7-cups-online-therapy-chat',\n",
       "  'rating': 3},\n",
       " {'review': ['The community rules don’t say you’re not supposed to talk about suicide yet people are constantly being banned from posting when they get flagged for talking about suicide or self harm',\n",
       "   'The one response I’ve had was something along the lines of “this isn’t a place that can help with suicide”'],\n",
       "  'app_name': 'sanvello-anxiety-depression',\n",
       "  'rating': 1},\n",
       " {'review': ['\\n\\nWoe bot does not discuss abusive relationships or active suicide ideations, but gives you ways to connect to actual people'],\n",
       "  'app_name': 'woebot-your-self-care-expert',\n",
       "  'rating': 5},\n",
       " {'review': ['I literally went from attempting suicide to being happy again because of this app! Use it!!!'],\n",
       "  'app_name': 'woebot-your-self-care-expert',\n",
       "  'rating': 5},\n",
       " {'review': ['I have Borderline personality disorder and was told about this app by someone from the suicide hotline'],\n",
       "  'app_name': 'woebot-your-self-care-expert',\n",
       "  'rating': 5},\n",
       " {'review': [' All they respond with is “here’s the suicide hotline”'],\n",
       "  'app_name': 'cerebral-mental-health',\n",
       "  'rating': 1},\n",
       " {'review': ['I tried to kill myself on what they put me on'],\n",
       "  'app_name': 'cerebral-mental-health',\n",
       "  'rating': 1},\n",
       " {'review': ['Inconsistencies in medication usage can lead to severe consequences, including suicide'],\n",
       "  'app_name': 'cerebral-mental-health',\n",
       "  'rating': 1}]"
      ]
     },
     "execution_count": 346,
     "metadata": {},
     "output_type": "execute_result"
    }
   ],
   "source": [
    "suicidial_ideation"
   ]
  },
  {
   "cell_type": "markdown",
   "id": "829d79e1",
   "metadata": {},
   "source": [
    "## Building a classifier\n",
    "\n",
    "This will only be done on a subset of the apps to reduce the amount of data. I selected the top 6 apps. "
   ]
  },
  {
   "cell_type": "markdown",
   "id": "5377a4f4",
   "metadata": {},
   "source": [
    "### Subsetting the data and pulling out a sample to train the classifer on "
   ]
  },
  {
   "cell_type": "code",
   "execution_count": 154,
   "id": "eaf4688c",
   "metadata": {},
   "outputs": [],
   "source": [
    "six_app_names = ['talkspace-therapy-counseling', 'cerebral-mental-health', 'betterhelp-therapy', \\\n",
    "                'woebot-your-self-care-expert', 'youper-online-therapy', 'wysa-mental-health-support']\n",
    "six_apps_df = all_reviews_df[all_reviews_df.app_name.isin(six_app_names)]"
   ]
  },
  {
   "cell_type": "code",
   "execution_count": 155,
   "id": "8c1c2296",
   "metadata": {},
   "outputs": [],
   "source": [
    "six_apps_bad_ratings = six_apps_df[six_apps_df.rating < 3]"
   ]
  },
  {
   "cell_type": "code",
   "execution_count": 156,
   "id": "af79953d",
   "metadata": {},
   "outputs": [
    {
     "data": {
      "text/plain": [
       "(1835, 9)"
      ]
     },
     "execution_count": 156,
     "metadata": {},
     "output_type": "execute_result"
    }
   ],
   "source": [
    "six_apps_bad_ratings.shape"
   ]
  },
  {
   "cell_type": "code",
   "execution_count": 159,
   "id": "09199df2",
   "metadata": {},
   "outputs": [],
   "source": [
    "#Taking 180 reviews (roughly 10% of the total number to manually tag)\n",
    "tagging_subset = six_apps_bad_ratings.sample(180, seed)\n",
    "tagging_subset.to_csv('training_data.csv')"
   ]
  },
  {
   "cell_type": "code",
   "execution_count": 163,
   "id": "1235c77e",
   "metadata": {},
   "outputs": [
    {
     "data": {
      "text/plain": [
       "talkspace-therapy-counseling    965\n",
       "cerebral-mental-health          552\n",
       "youper-online-therapy           148\n",
       "betterhelp-therapy              104\n",
       "woebot-your-self-care-expert     39\n",
       "wysa-mental-health-support       27\n",
       "Name: app_name, dtype: int64"
      ]
     },
     "execution_count": 163,
     "metadata": {},
     "output_type": "execute_result"
    }
   ],
   "source": [
    "six_apps_bad_ratings.app_name.value_counts()"
   ]
  },
  {
   "cell_type": "code",
   "execution_count": 162,
   "id": "30ad3c1b",
   "metadata": {},
   "outputs": [
    {
     "data": {
      "text/plain": [
       "talkspace-therapy-counseling    99\n",
       "cerebral-mental-health          57\n",
       "youper-online-therapy           11\n",
       "betterhelp-therapy               7\n",
       "wysa-mental-health-support       4\n",
       "woebot-your-self-care-expert     2\n",
       "Name: app_name, dtype: int64"
      ]
     },
     "execution_count": 162,
     "metadata": {},
     "output_type": "execute_result"
    }
   ],
   "source": [
    "tagging_subset.app_name.value_counts()"
   ]
  },
  {
   "cell_type": "code",
   "execution_count": 272,
   "id": "bbf1475c",
   "metadata": {},
   "outputs": [],
   "source": [
    "#Extracting unknowns \n",
    "review_list = tagging_subset.review.tolist()"
   ]
  },
  {
   "cell_type": "code",
   "execution_count": 326,
   "id": "ae3df7d1",
   "metadata": {},
   "outputs": [],
   "source": [
    "unlabeled_data = six_apps_bad_ratings[six_apps_bad_ratings.review.isin(review_list) == False]"
   ]
  },
  {
   "cell_type": "code",
   "execution_count": 274,
   "id": "a6b06a71",
   "metadata": {},
   "outputs": [
    {
     "data": {
      "text/plain": [
       "(1653, 9)"
      ]
     },
     "execution_count": 274,
     "metadata": {},
     "output_type": "execute_result"
    }
   ],
   "source": [
    "unlabeled_data.shape"
   ]
  },
  {
   "cell_type": "markdown",
   "id": "fe615dc6",
   "metadata": {},
   "source": [
    "### Manually tag the data in Excel, and read it back in"
   ]
  },
  {
   "cell_type": "code",
   "execution_count": 352,
   "id": "8b3c0ea1",
   "metadata": {},
   "outputs": [],
   "source": [
    "training_data = pd.read_csv('training_data.csv')"
   ]
  },
  {
   "cell_type": "code",
   "execution_count": 353,
   "id": "0033cb4d",
   "metadata": {},
   "outputs": [
    {
     "data": {
      "text/plain": [
       "Index(['Unnamed: 0', 'rating', 'isEdited', 'developerResponse', 'userName',\n",
       "       'date', 'review', 'title', 'app_name', 'app_id', 'unfair_charge',\n",
       "       'unresponsive_therapist', 'bad_therapist', 'Unnamed: 13'],\n",
       "      dtype='object')"
      ]
     },
     "execution_count": 353,
     "metadata": {},
     "output_type": "execute_result"
    }
   ],
   "source": [
    "training_data.columns"
   ]
  },
  {
   "cell_type": "code",
   "execution_count": 354,
   "id": "a243f4e7",
   "metadata": {},
   "outputs": [],
   "source": [
    "training_data = training_data[['rating', 'review', 'app_name', 'unfair_charge', 'unresponsive_therapist', 'bad_therapist']]"
   ]
  },
  {
   "cell_type": "markdown",
   "id": "4d0f4187",
   "metadata": {},
   "source": [
    "### Training the classifier"
   ]
  },
  {
   "cell_type": "code",
   "execution_count": null,
   "id": "e4bb9aa4",
   "metadata": {},
   "outputs": [],
   "source": [
    "#!pip install pystemmer\n",
    "#!pip install sklearn"
   ]
  },
  {
   "cell_type": "code",
   "execution_count": 355,
   "id": "2c7e41ae",
   "metadata": {},
   "outputs": [],
   "source": [
    "from sklearn.feature_extraction.text import TfidfVectorizer\n",
    "import Stemmer\n",
    "\n",
    "stemmer = Stemmer.Stemmer('en')\n",
    "\n",
    "analyzer = TfidfVectorizer().build_analyzer()\n",
    "\n",
    "# Override CountVectorizer\n",
    "class StemmedTfidfVectorizer(TfidfVectorizer):\n",
    "    def build_analyzer(self):\n",
    "        analyzer = super(TfidfVectorizer, self).build_analyzer()\n",
    "        return lambda doc: stemmer.stemWords(analyzer(doc))\n",
    "\n",
    "# Create a new StemmedCountVectorizer\n",
    "vectorizer = StemmedTfidfVectorizer(max_features=500, max_df=0.30)\n",
    "matrix = vectorizer.fit_transform(training_data.review)"
   ]
  },
  {
   "cell_type": "code",
   "execution_count": 356,
   "id": "0c2cee44",
   "metadata": {},
   "outputs": [
    {
     "data": {
      "text/plain": [
       "LinearSVC(class_weight='balanced')"
      ]
     },
     "execution_count": 356,
     "metadata": {},
     "output_type": "execute_result"
    }
   ],
   "source": [
    "from sklearn.svm import LinearSVC\n",
    "\n",
    "#Unfair charge classifier\n",
    "X = matrix\n",
    "y = training_data.unfair_charge\n",
    "\n",
    "clf_charge = LinearSVC(class_weight='balanced')\n",
    "clf_charge.fit(X, y)\n",
    "\n",
    "#Unresponsive therapist classifer\n",
    "X = matrix\n",
    "y = training_data.unresponsive_therapist\n",
    "\n",
    "clf_unresponsive = LinearSVC(class_weight='balanced')\n",
    "clf_unresponsive.fit(X, y)\n",
    "\n",
    "#Bad therapist classifier\n",
    "X = matrix\n",
    "y = training_data.bad_therapist\n",
    "\n",
    "clf_bad = LinearSVC(class_weight='balanced')\n",
    "clf_bad.fit(X, y)"
   ]
  },
  {
   "cell_type": "markdown",
   "id": "dc52d91d",
   "metadata": {},
   "source": [
    "### Using it to predict on the other 90% of bad reviews"
   ]
  },
  {
   "cell_type": "code",
   "execution_count": 357,
   "id": "246f9ecf",
   "metadata": {},
   "outputs": [],
   "source": [
    "unlabeled_data = unlabeled_data[['rating', 'review', 'app_name']]"
   ]
  },
  {
   "cell_type": "code",
   "execution_count": null,
   "id": "102b163c",
   "metadata": {},
   "outputs": [],
   "source": [
    "X = vectorizer.transform(unlabeled_data.review)\n",
    "\n",
    "unlabeled_data['charge_predicted'] = clf_charge.predict(X)\n",
    "unlabeled_data['charge_predicted_proba'] = clf_charge.decision_function(X)\n",
    "\n",
    "unlabeled_data['unresponsive_predicted'] = clf_unresponsive.predict(X)\n",
    "unlabeled_data['unresponsive_predicted_proba'] = clf_unresponsive.decision_function(X)\n",
    "\n",
    "unlabeled_data['bad_predicted'] = clf_bad.predict(X)\n",
    "unlabeled_data['bad_predicted_proba'] = clf_bad.decision_function(X)"
   ]
  },
  {
   "cell_type": "code",
   "execution_count": 359,
   "id": "9e8bc5c7",
   "metadata": {
    "scrolled": true
   },
   "outputs": [
    {
     "data": {
      "text/html": [
       "<div>\n",
       "<style scoped>\n",
       "    .dataframe tbody tr th:only-of-type {\n",
       "        vertical-align: middle;\n",
       "    }\n",
       "\n",
       "    .dataframe tbody tr th {\n",
       "        vertical-align: top;\n",
       "    }\n",
       "\n",
       "    .dataframe thead th {\n",
       "        text-align: right;\n",
       "    }\n",
       "</style>\n",
       "<table border=\"1\" class=\"dataframe\">\n",
       "  <thead>\n",
       "    <tr style=\"text-align: right;\">\n",
       "      <th></th>\n",
       "      <th>rating</th>\n",
       "      <th>review</th>\n",
       "      <th>app_name</th>\n",
       "      <th>charge_predicted</th>\n",
       "      <th>charge_predicted_proba</th>\n",
       "      <th>unresponsive_predicted</th>\n",
       "      <th>unresponsive_predicted_proba</th>\n",
       "      <th>bad_predicted</th>\n",
       "      <th>bad_predicted_proba</th>\n",
       "    </tr>\n",
       "  </thead>\n",
       "  <tbody>\n",
       "    <tr>\n",
       "      <th>1</th>\n",
       "      <td>1</td>\n",
       "      <td>Give me all of my money back. I don’t write app reviews, but there is no way to get any type of response from customer service. I was a brand new paying subscriber that needed assistance with a billing/technical issue. I’ve reached out via email multiple times for a week with no response, which ...</td>\n",
       "      <td>talkspace-therapy-counseling</td>\n",
       "      <td>1</td>\n",
       "      <td>0.758082</td>\n",
       "      <td>0</td>\n",
       "      <td>-0.170694</td>\n",
       "      <td>0</td>\n",
       "      <td>-1.896368</td>\n",
       "    </tr>\n",
       "  </tbody>\n",
       "</table>\n",
       "</div>"
      ],
      "text/plain": [
       "   rating  \\\n",
       "1       1   \n",
       "\n",
       "                                                                                                                                                                                                                                                                                                        review  \\\n",
       "1  Give me all of my money back. I don’t write app reviews, but there is no way to get any type of response from customer service. I was a brand new paying subscriber that needed assistance with a billing/technical issue. I’ve reached out via email multiple times for a week with no response, which ...   \n",
       "\n",
       "                       app_name  charge_predicted  charge_predicted_proba  \\\n",
       "1  talkspace-therapy-counseling                 1                0.758082   \n",
       "\n",
       "   unresponsive_predicted  unresponsive_predicted_proba  bad_predicted  \\\n",
       "1                       0                     -0.170694              0   \n",
       "\n",
       "   bad_predicted_proba  \n",
       "1            -1.896368  "
      ]
     },
     "execution_count": 359,
     "metadata": {},
     "output_type": "execute_result"
    }
   ],
   "source": [
    "unlabeled_data.head(1)"
   ]
  },
  {
   "cell_type": "code",
   "execution_count": null,
   "id": "31f1efb3",
   "metadata": {},
   "outputs": [],
   "source": [
    "#!pip install eli5"
   ]
  },
  {
   "cell_type": "code",
   "execution_count": null,
   "id": "84d967ec",
   "metadata": {},
   "outputs": [],
   "source": [
    "import eli5\n",
    "\n",
    "eli5.explain_weights(clf_charge, vec=vectorizer)"
   ]
  },
  {
   "cell_type": "code",
   "execution_count": null,
   "id": "2ea65c43",
   "metadata": {},
   "outputs": [],
   "source": [
    "eli5.explain_weights(clf_unresponsive, vec=vectorizer)"
   ]
  },
  {
   "cell_type": "code",
   "execution_count": null,
   "id": "dcc9e635",
   "metadata": {
    "scrolled": false
   },
   "outputs": [],
   "source": [
    "eli5.explain_weights(clf_bad, vec=vectorizer)"
   ]
  },
  {
   "cell_type": "markdown",
   "id": "08d5898d",
   "metadata": {},
   "source": [
    "### Analyzing classified data"
   ]
  },
  {
   "cell_type": "code",
   "execution_count": 369,
   "id": "3f34d4f3",
   "metadata": {},
   "outputs": [],
   "source": [
    "unlabeled_charge_pos_only = unlabeled_data[(unlabeled_data.charge_predicted == 1)]"
   ]
  },
  {
   "cell_type": "code",
   "execution_count": 370,
   "id": "dd413029",
   "metadata": {},
   "outputs": [
    {
     "data": {
      "image/png": "[encoded data removed]",
      "text/plain": [
       "<Figure size 640x480 with 1 Axes>"
      ]
     },
     "metadata": {},
     "output_type": "display_data"
    },
    {
     "data": {
      "text/plain": [
       "<ggplot: (326133742)>"
      ]
     },
     "metadata": {},
     "output_type": "display_data"
    }
   ],
   "source": [
    "display(\n",
    "    ggplot(unlabeled_charge_pos_only, aes('app_name'))\n",
    "    + geom_bar()\n",
    "    + coord_flip()\n",
    ")"
   ]
  },
  {
   "cell_type": "code",
   "execution_count": 398,
   "id": "a51697ce",
   "metadata": {},
   "outputs": [],
   "source": [
    "predicted_charge_counts = unlabeled_data.groupby('app_name').charge_predicted.value_counts().reset_index(name='charge')"
   ]
  },
  {
   "cell_type": "code",
   "execution_count": 399,
   "id": "16c1d10d",
   "metadata": {},
   "outputs": [],
   "source": [
    "predicted_unresponsive_counts = unlabeled_data.groupby('app_name').unresponsive_predicted.value_counts().reset_index(name='unresponsive')"
   ]
  },
  {
   "cell_type": "code",
   "execution_count": 400,
   "id": "28df78b0",
   "metadata": {},
   "outputs": [],
   "source": [
    "predicted_bad_counts = unlabeled_data.groupby('app_name').bad_predicted.value_counts().reset_index(name='bad')"
   ]
  },
  {
   "cell_type": "code",
   "execution_count": 407,
   "id": "8e1abe6b",
   "metadata": {},
   "outputs": [],
   "source": [
    "all_counts = predicted_charge_counts.merge(predicted_unresponsive_counts, on='app_name').merge(predicted_bad_counts, on='app_name')"
   ]
  },
  {
   "cell_type": "code",
   "execution_count": 414,
   "id": "5db340dc",
   "metadata": {},
   "outputs": [
    {
     "data": {
      "text/html": [
       "<div>\n",
       "<style scoped>\n",
       "    .dataframe tbody tr th:only-of-type {\n",
       "        vertical-align: middle;\n",
       "    }\n",
       "\n",
       "    .dataframe tbody tr th {\n",
       "        vertical-align: top;\n",
       "    }\n",
       "\n",
       "    .dataframe thead th {\n",
       "        text-align: right;\n",
       "    }\n",
       "</style>\n",
       "<table border=\"1\" class=\"dataframe\">\n",
       "  <thead>\n",
       "    <tr style=\"text-align: right;\">\n",
       "      <th></th>\n",
       "      <th>app_name</th>\n",
       "      <th>charge_predicted</th>\n",
       "      <th>charge</th>\n",
       "      <th>unresponsive_predicted</th>\n",
       "      <th>unresponsive</th>\n",
       "      <th>bad_predicted</th>\n",
       "      <th>bad</th>\n",
       "    </tr>\n",
       "  </thead>\n",
       "  <tbody>\n",
       "    <tr>\n",
       "      <th>0</th>\n",
       "      <td>betterhelp-therapy</td>\n",
       "      <td>0</td>\n",
       "      <td>78</td>\n",
       "      <td>0</td>\n",
       "      <td>88</td>\n",
       "      <td>0</td>\n",
       "      <td>60</td>\n",
       "    </tr>\n",
       "    <tr>\n",
       "      <th>1</th>\n",
       "      <td>betterhelp-therapy</td>\n",
       "      <td>0</td>\n",
       "      <td>78</td>\n",
       "      <td>0</td>\n",
       "      <td>88</td>\n",
       "      <td>1</td>\n",
       "      <td>37</td>\n",
       "    </tr>\n",
       "    <tr>\n",
       "      <th>2</th>\n",
       "      <td>betterhelp-therapy</td>\n",
       "      <td>0</td>\n",
       "      <td>78</td>\n",
       "      <td>1</td>\n",
       "      <td>9</td>\n",
       "      <td>0</td>\n",
       "      <td>60</td>\n",
       "    </tr>\n",
       "    <tr>\n",
       "      <th>3</th>\n",
       "      <td>betterhelp-therapy</td>\n",
       "      <td>0</td>\n",
       "      <td>78</td>\n",
       "      <td>1</td>\n",
       "      <td>9</td>\n",
       "      <td>1</td>\n",
       "      <td>37</td>\n",
       "    </tr>\n",
       "    <tr>\n",
       "      <th>4</th>\n",
       "      <td>betterhelp-therapy</td>\n",
       "      <td>1</td>\n",
       "      <td>19</td>\n",
       "      <td>0</td>\n",
       "      <td>88</td>\n",
       "      <td>0</td>\n",
       "      <td>60</td>\n",
       "    </tr>\n",
       "    <tr>\n",
       "      <th>5</th>\n",
       "      <td>betterhelp-therapy</td>\n",
       "      <td>1</td>\n",
       "      <td>19</td>\n",
       "      <td>0</td>\n",
       "      <td>88</td>\n",
       "      <td>1</td>\n",
       "      <td>37</td>\n",
       "    </tr>\n",
       "    <tr>\n",
       "      <th>6</th>\n",
       "      <td>betterhelp-therapy</td>\n",
       "      <td>1</td>\n",
       "      <td>19</td>\n",
       "      <td>1</td>\n",
       "      <td>9</td>\n",
       "      <td>0</td>\n",
       "      <td>60</td>\n",
       "    </tr>\n",
       "    <tr>\n",
       "      <th>7</th>\n",
       "      <td>betterhelp-therapy</td>\n",
       "      <td>1</td>\n",
       "      <td>19</td>\n",
       "      <td>1</td>\n",
       "      <td>9</td>\n",
       "      <td>1</td>\n",
       "      <td>37</td>\n",
       "    </tr>\n",
       "  </tbody>\n",
       "</table>\n",
       "</div>"
      ],
      "text/plain": [
       "             app_name  charge_predicted  charge  unresponsive_predicted  \\\n",
       "0  betterhelp-therapy                 0      78                       0   \n",
       "1  betterhelp-therapy                 0      78                       0   \n",
       "2  betterhelp-therapy                 0      78                       1   \n",
       "3  betterhelp-therapy                 0      78                       1   \n",
       "4  betterhelp-therapy                 1      19                       0   \n",
       "5  betterhelp-therapy                 1      19                       0   \n",
       "6  betterhelp-therapy                 1      19                       1   \n",
       "7  betterhelp-therapy                 1      19                       1   \n",
       "\n",
       "   unresponsive  bad_predicted  bad  \n",
       "0            88              0   60  \n",
       "1            88              1   37  \n",
       "2             9              0   60  \n",
       "3             9              1   37  \n",
       "4            88              0   60  \n",
       "5            88              1   37  \n",
       "6             9              0   60  \n",
       "7             9              1   37  "
      ]
     },
     "execution_count": 414,
     "metadata": {},
     "output_type": "execute_result"
    }
   ],
   "source": [
    "all_counts.head(8)"
   ]
  },
  {
   "cell_type": "code",
   "execution_count": 464,
   "id": "4e6e3f29",
   "metadata": {},
   "outputs": [],
   "source": [
    "pos_counts = all_counts[(all_counts.charge_predicted == 1) &\\\n",
    "           (all_counts.unresponsive_predicted == 1) &\\\n",
    "           (all_counts.bad_predicted == 1)]"
   ]
  },
  {
   "cell_type": "code",
   "execution_count": 465,
   "id": "bf2c6ef2",
   "metadata": {},
   "outputs": [],
   "source": [
    "neg_review_counts = unlabeled_data.app_name.value_counts().reset_index(name='total')"
   ]
  },
  {
   "cell_type": "code",
   "execution_count": 466,
   "id": "0c3a269c",
   "metadata": {},
   "outputs": [],
   "source": [
    "neg_review_counts = neg_review_counts.sort_values('index')\n",
    "neg_review_counts.rename(columns={'index':'app_name'}, inplace=True)"
   ]
  },
  {
   "cell_type": "code",
   "execution_count": 467,
   "id": "d486aba7",
   "metadata": {},
   "outputs": [],
   "source": [
    "pos_counts = pos_counts.merge(neg_review_counts, on='app_name')"
   ]
  },
  {
   "cell_type": "code",
   "execution_count": 468,
   "id": "ba521f56",
   "metadata": {},
   "outputs": [],
   "source": [
    "pos_counts['other'] = pos_counts.total - (pos_counts.charge + pos_counts.unresponsive + pos_counts.bad)"
   ]
  },
  {
   "cell_type": "code",
   "execution_count": 469,
   "id": "3c882704",
   "metadata": {},
   "outputs": [],
   "source": [
    "pos_counts = pos_counts[['app_name', 'charge', 'unresponsive', 'bad', 'other']]"
   ]
  },
  {
   "cell_type": "code",
   "execution_count": 470,
   "id": "62ea35d9",
   "metadata": {},
   "outputs": [
    {
     "data": {
      "text/html": [
       "<div>\n",
       "<style scoped>\n",
       "    .dataframe tbody tr th:only-of-type {\n",
       "        vertical-align: middle;\n",
       "    }\n",
       "\n",
       "    .dataframe tbody tr th {\n",
       "        vertical-align: top;\n",
       "    }\n",
       "\n",
       "    .dataframe thead th {\n",
       "        text-align: right;\n",
       "    }\n",
       "</style>\n",
       "<table border=\"1\" class=\"dataframe\">\n",
       "  <thead>\n",
       "    <tr style=\"text-align: right;\">\n",
       "      <th></th>\n",
       "      <th>app_name</th>\n",
       "      <th>charge</th>\n",
       "      <th>unresponsive</th>\n",
       "      <th>bad</th>\n",
       "      <th>other</th>\n",
       "    </tr>\n",
       "  </thead>\n",
       "  <tbody>\n",
       "    <tr>\n",
       "      <th>0</th>\n",
       "      <td>betterhelp-therapy</td>\n",
       "      <td>19</td>\n",
       "      <td>9</td>\n",
       "      <td>37</td>\n",
       "      <td>32</td>\n",
       "    </tr>\n",
       "    <tr>\n",
       "      <th>1</th>\n",
       "      <td>cerebral-mental-health</td>\n",
       "      <td>248</td>\n",
       "      <td>131</td>\n",
       "      <td>38</td>\n",
       "      <td>76</td>\n",
       "    </tr>\n",
       "    <tr>\n",
       "      <th>2</th>\n",
       "      <td>talkspace-therapy-counseling</td>\n",
       "      <td>251</td>\n",
       "      <td>247</td>\n",
       "      <td>98</td>\n",
       "      <td>270</td>\n",
       "    </tr>\n",
       "    <tr>\n",
       "      <th>3</th>\n",
       "      <td>woebot-your-self-care-expert</td>\n",
       "      <td>1</td>\n",
       "      <td>4</td>\n",
       "      <td>7</td>\n",
       "      <td>25</td>\n",
       "    </tr>\n",
       "    <tr>\n",
       "      <th>4</th>\n",
       "      <td>wysa-mental-health-support</td>\n",
       "      <td>2</td>\n",
       "      <td>1</td>\n",
       "      <td>3</td>\n",
       "      <td>17</td>\n",
       "    </tr>\n",
       "    <tr>\n",
       "      <th>5</th>\n",
       "      <td>youper-online-therapy</td>\n",
       "      <td>5</td>\n",
       "      <td>5</td>\n",
       "      <td>14</td>\n",
       "      <td>113</td>\n",
       "    </tr>\n",
       "  </tbody>\n",
       "</table>\n",
       "</div>"
      ],
      "text/plain": [
       "                       app_name  charge  unresponsive  bad  other\n",
       "0            betterhelp-therapy      19             9   37     32\n",
       "1        cerebral-mental-health     248           131   38     76\n",
       "2  talkspace-therapy-counseling     251           247   98    270\n",
       "3  woebot-your-self-care-expert       1             4    7     25\n",
       "4    wysa-mental-health-support       2             1    3     17\n",
       "5         youper-online-therapy       5             5   14    113"
      ]
     },
     "execution_count": 470,
     "metadata": {},
     "output_type": "execute_result"
    }
   ],
   "source": [
    "pos_counts"
   ]
  },
  {
   "cell_type": "code",
   "execution_count": 471,
   "id": "a5ccb4a1",
   "metadata": {},
   "outputs": [],
   "source": [
    "pos_counts.to_csv('bar_chart_data.csv', index=False)"
   ]
  },
  {
   "cell_type": "markdown",
   "id": "376ccf62",
   "metadata": {},
   "source": [
    "Data visualized in DataWrapper:\n",
    "<img src=talkspace-cerebral-bar.png width=750px>"
   ]
  }
 ],
 "metadata": {
  "kernelspec": {
   "display_name": "Python 3 (ipykernel)",
   "language": "python",
   "name": "python3"
  },
  "language_info": {
   "codemirror_mode": {
    "name": "ipython",
    "version": 3
   },
   "file_extension": ".py",
   "mimetype": "text/x-python",
   "name": "python",
   "nbconvert_exporter": "python",
   "pygments_lexer": "ipython3",
   "version": "3.10.0"
  }
 },
 "nbformat": 4,
 "nbformat_minor": 5
}
