{
 "cells": [
  {
   "cell_type": "markdown",
   "id": "1679bfbb",
   "metadata": {},
   "source": [
    "# Scraping Teletherapy App Data from the Apple App Store\n",
    "\n",
    "This notebook uses the itunes_app_scraper and app_store_scraper packages to scrape the Apple app store for the reviews of 10 digital therapy apps to examine the benefits and shortfalls of mental health apps like these. \n",
    "\n",
    "The apps were selected based on search results for \"therapy\" and \"CBT\" on the app store, as well as online reviews of mental health apps. The dataframe containing their names and ids is manually created here. Then, the packages are used to extract app information and app ratings. \n",
    "\n",
    "Due to the biased nature of ratings, I will use these reviews to isolate potential problems or solutions unique to these apps, rather than trying to use them as a metric for efficacy. I will use regular expressions to do explore the following questions:\n",
    "- Do users experience quicker or slower response times than they might with in-person therapy or more traditional, appointment-based telehealth?\n",
    "- Do users experience issues navigating insurance claims with these apps? Do they report feeling unfairly charged?\n",
    "- If users feel the apps helped them, how?\n",
    "- ...and more to come based as I continue the analysis!"
   ]
  },
  {
   "cell_type": "markdown",
   "id": "bbf7d4ef",
   "metadata": {},
   "source": [
    "## Imports"
   ]
  },
  {
   "cell_type": "code",
   "execution_count": null,
   "id": "36f50bf3",
   "metadata": {},
   "outputs": [],
   "source": [
    "!pip install itunes-app-scraper-dmi==0.9.4\n",
    "!pip install app-store-scraper==0.3.5"
   ]
  },
  {
   "cell_type": "code",
   "execution_count": 26,
   "id": "63263566",
   "metadata": {},
   "outputs": [],
   "source": [
    "import pandas as pd\n",
    "\n",
    "from itunes_app_scraper.scraper import AppStoreScraper\n",
    "from app_store_scraper import AppStore\n",
    "\n",
    "import time\n",
    "import re\n",
    "\n",
    "import requests\n",
    "from requests.adapters import HTTPAdapter\n",
    "from requests.packages.urllib3.util.retry import Retry"
   ]
  },
  {
   "cell_type": "code",
   "execution_count": 4,
   "id": "77a11aee",
   "metadata": {},
   "outputs": [],
   "source": [
    "pd.set_option('display.max_columns', None)"
   ]
  },
  {
   "cell_type": "code",
   "execution_count": 5,
   "id": "f2d4b300",
   "metadata": {},
   "outputs": [],
   "source": [
    "#Testing on one app"
   ]
  },
  {
   "cell_type": "code",
   "execution_count": 6,
   "id": "c288763e",
   "metadata": {},
   "outputs": [
    {
     "name": "stderr",
     "output_type": "stream",
     "text": [
      "2022-02-11 15:34:56,705 [INFO] Base - Initialised: AppStore('us', 'talkspace-therapy-counseling', 661829386)\n",
      "2022-02-11 15:34:56,706 [INFO] Base - Ready to fetch reviews from: https://apps.apple.com/us/app/talkspace-therapy-counseling/id661829386\n",
      "2022-02-11 15:34:59,442 [INFO] Base - [id:661829386] Fetched 100 reviews (100 fetched in total)\n"
     ]
    }
   ],
   "source": [
    "my_app = AppStore(\n",
    "  country='us',       \n",
    "  app_name='talkspace-therapy-counseling', \n",
    "  app_id=661829386    \n",
    ") \n",
    "    \n",
    "my_app.review(\n",
    "  how_many=100,\n",
    "  sleep=time.sleep(1)\n",
    ")"
   ]
  },
  {
   "cell_type": "code",
   "execution_count": 7,
   "id": "9894034c",
   "metadata": {},
   "outputs": [],
   "source": [
    "reviews = my_app.reviews"
   ]
  },
  {
   "cell_type": "code",
   "execution_count": null,
   "id": "c7cbf858",
   "metadata": {},
   "outputs": [],
   "source": [
    "reviews[:5]"
   ]
  },
  {
   "cell_type": "markdown",
   "id": "f17b2e74",
   "metadata": {},
   "source": [
    "## Building dataframe of 10 apps \n",
    "\n",
    "This section builds a dataframe of the therapy apps to analyze from the App Store website (https://www.apple.com/app-store/). The names and ids of the apps are in each of their App store URLs\n",
    "\n",
    "The apps are:\n",
    "- [Talkspace](https://apps.apple.com/us/app/talkspace-therapy-counseling/id661829386) \n",
    "- [Betterhelp](https://apps.apple.com/us/app/betterhelp-therapy/id995252384)\n",
    "- [Wysa](https://apps.apple.com/us/app/wysa-mental-health-support/id1166585565)\n",
    "- [Bloom](https://apps.apple.com/us/app/bloom-cbt-therapy-self-care/id1475128511)\n",
    "- [7 Cups](https://apps.apple.com/us/app/7-cups-online-therapy-chat/id921814681)\n",
    "- [Sanvella](https://apps.apple.com/us/app/sanvello-anxiety-depression/id922968861)\n",
    "- [WoeBot](https://apps.apple.com/us/app/woebot-your-self-care-expert/id1305375832) \n",
    "- [Larkr](https://apps.apple.com/us/app/larkr-on-demand-video-therapy/id1253710426)\n",
    "- [Youper](https://apps.apple.com/us/app/youper-online-therapy/id1060691513)\n",
    "- [Replika](https://apps.apple.com/us/app/replika-virtual-ai-friend/id1158555867)"
   ]
  },
  {
   "cell_type": "code",
   "execution_count": 11,
   "id": "0744bd77",
   "metadata": {},
   "outputs": [],
   "source": [
    "app_names_ids = [\n",
    "    {'name':'talkspace-therapy-counseling',\n",
    "    'id': 661829386},\n",
    "    {'name':'betterhelp-therapy',\n",
    "    'id':995252384},\n",
    "    {'name': 'wysa-mental-health-support',\n",
    "    'id':1166585565},\n",
    "    {'name': 'bloom-cbt-therapy-self-care',\n",
    "    'id':1475128511},\n",
    "    {'name': '7-cups-online-therapy-chat',\n",
    "    'id':921814681},\n",
    "    {'name': 'sanvello-anxiety-depression',\n",
    "    'id':922968861},\n",
    "    {'name': 'woebot-your-self-care-expert',\n",
    "    'id':1305375832},\n",
    "    {'name': 'larkr-on-demand-video-therapy',\n",
    "    'id':1253710426},\n",
    "    {'name':'youper-online-therapy',\n",
    "    'id':1060691513},\n",
    "    {'name': 'replika-virtual-ai-friend',\n",
    "    'id':1158555867}]"
   ]
  },
  {
   "cell_type": "code",
   "execution_count": 14,
   "id": "1ac19aab",
   "metadata": {},
   "outputs": [],
   "source": [
    "therapy_apps = pd.DataFrame(app_names_ids)"
   ]
  },
  {
   "cell_type": "code",
   "execution_count": 16,
   "id": "581317ed",
   "metadata": {},
   "outputs": [
    {
     "data": {
      "text/html": [
       "<div>\n",
       "<style scoped>\n",
       "    .dataframe tbody tr th:only-of-type {\n",
       "        vertical-align: middle;\n",
       "    }\n",
       "\n",
       "    .dataframe tbody tr th {\n",
       "        vertical-align: top;\n",
       "    }\n",
       "\n",
       "    .dataframe thead th {\n",
       "        text-align: right;\n",
       "    }\n",
       "</style>\n",
       "<table border=\"1\" class=\"dataframe\">\n",
       "  <thead>\n",
       "    <tr style=\"text-align: right;\">\n",
       "      <th></th>\n",
       "      <th>name</th>\n",
       "      <th>id</th>\n",
       "    </tr>\n",
       "  </thead>\n",
       "  <tbody>\n",
       "    <tr>\n",
       "      <th>0</th>\n",
       "      <td>talkspace-therapy-counseling</td>\n",
       "      <td>661829386</td>\n",
       "    </tr>\n",
       "    <tr>\n",
       "      <th>1</th>\n",
       "      <td>betterhelp-therapy</td>\n",
       "      <td>995252384</td>\n",
       "    </tr>\n",
       "    <tr>\n",
       "      <th>2</th>\n",
       "      <td>wysa-mental-health-support</td>\n",
       "      <td>1166585565</td>\n",
       "    </tr>\n",
       "    <tr>\n",
       "      <th>3</th>\n",
       "      <td>bloom-cbt-therapy-self-care</td>\n",
       "      <td>1475128511</td>\n",
       "    </tr>\n",
       "    <tr>\n",
       "      <th>4</th>\n",
       "      <td>7-cups-online-therapy-chat</td>\n",
       "      <td>921814681</td>\n",
       "    </tr>\n",
       "    <tr>\n",
       "      <th>5</th>\n",
       "      <td>sanvello-anxiety-depression</td>\n",
       "      <td>922968861</td>\n",
       "    </tr>\n",
       "    <tr>\n",
       "      <th>6</th>\n",
       "      <td>woebot-your-self-care-expert</td>\n",
       "      <td>1305375832</td>\n",
       "    </tr>\n",
       "    <tr>\n",
       "      <th>7</th>\n",
       "      <td>larkr-on-demand-video-therapy</td>\n",
       "      <td>1253710426</td>\n",
       "    </tr>\n",
       "    <tr>\n",
       "      <th>8</th>\n",
       "      <td>youper-online-therapy</td>\n",
       "      <td>1060691513</td>\n",
       "    </tr>\n",
       "    <tr>\n",
       "      <th>9</th>\n",
       "      <td>replika-virtual-ai-friend</td>\n",
       "      <td>1158555867</td>\n",
       "    </tr>\n",
       "  </tbody>\n",
       "</table>\n",
       "</div>"
      ],
      "text/plain": [
       "                            name          id\n",
       "0   talkspace-therapy-counseling   661829386\n",
       "1             betterhelp-therapy   995252384\n",
       "2     wysa-mental-health-support  1166585565\n",
       "3    bloom-cbt-therapy-self-care  1475128511\n",
       "4     7-cups-online-therapy-chat   921814681\n",
       "5    sanvello-anxiety-depression   922968861\n",
       "6   woebot-your-self-care-expert  1305375832\n",
       "7  larkr-on-demand-video-therapy  1253710426\n",
       "8          youper-online-therapy  1060691513\n",
       "9      replika-virtual-ai-friend  1158555867"
      ]
     },
     "execution_count": 16,
     "metadata": {},
     "output_type": "execute_result"
    }
   ],
   "source": [
    "therapy_apps"
   ]
  },
  {
   "cell_type": "markdown",
   "id": "8e09fa53",
   "metadata": {},
   "source": [
    "## Scraping reviews for the apps"
   ]
  },
  {
   "cell_type": "code",
   "execution_count": 28,
   "id": "262ca042",
   "metadata": {},
   "outputs": [],
   "source": [
    "#Avoiding max retries error\n",
    "session = requests.Session()\n",
    "retry = Retry(connect=3, backoff_factor=0.5)\n",
    "adapter = HTTPAdapter(max_retries=retry)\n",
    "session.mount('http://', adapter)\n",
    "session.mount('https://', adapter)"
   ]
  },
  {
   "cell_type": "code",
   "execution_count": 33,
   "id": "7fb441c3",
   "metadata": {},
   "outputs": [
    {
     "name": "stderr",
     "output_type": "stream",
     "text": [
      "2022-02-11 18:19:56,118 [INFO] Base - Initialised: AppStore('us', 'talkspace-therapy-counseling', 661829386)\n",
      "2022-02-11 18:19:56,119 [INFO] Base - Ready to fetch reviews from: https://apps.apple.com/us/app/talkspace-therapy-counseling/id661829386\n",
      "2022-02-11 18:20:16,777 [ERROR] Base - Something went wrong: HTTPSConnectionPool(host='amp-api.apps.apple.com', port=443): Max retries exceeded with url: /v1/catalog/us/apps/661829386/reviews?l=en-GB&offset=0&limit=20&platform=web&additionalPlatforms=appletv%2Cipad%2Ciphone%2Cmac (Caused by ResponseError('too many 429 error responses'))\n",
      "2022-02-11 18:20:16,781 [INFO] Base - [id:661829386] Fetched 0 reviews (0 fetched in total)\n",
      "2022-02-11 18:20:22,702 [INFO] Base - Initialised: AppStore('us', 'betterhelp-therapy', 995252384)\n",
      "2022-02-11 18:20:22,703 [INFO] Base - Ready to fetch reviews from: https://apps.apple.com/us/app/betterhelp-therapy/id995252384\n",
      "2022-02-11 18:20:43,602 [ERROR] Base - Something went wrong: HTTPSConnectionPool(host='amp-api.apps.apple.com', port=443): Max retries exceeded with url: /v1/catalog/us/apps/995252384/reviews?l=en-GB&offset=0&limit=20&platform=web&additionalPlatforms=appletv%2Cipad%2Ciphone%2Cmac (Caused by ResponseError('too many 429 error responses'))\n",
      "2022-02-11 18:20:43,606 [INFO] Base - [id:995252384] Fetched 0 reviews (0 fetched in total)\n",
      "2022-02-11 18:20:50,159 [INFO] Base - Initialised: AppStore('us', 'wysa-mental-health-support', 1166585565)\n",
      "2022-02-11 18:20:50,160 [INFO] Base - Ready to fetch reviews from: https://apps.apple.com/us/app/wysa-mental-health-support/id1166585565\n",
      "2022-02-11 18:21:11,055 [ERROR] Base - Something went wrong: HTTPSConnectionPool(host='amp-api.apps.apple.com', port=443): Max retries exceeded with url: /v1/catalog/us/apps/1166585565/reviews?l=en-GB&offset=0&limit=20&platform=web&additionalPlatforms=appletv%2Cipad%2Ciphone%2Cmac (Caused by ResponseError('too many 429 error responses'))\n",
      "2022-02-11 18:21:11,066 [INFO] Base - [id:1166585565] Fetched 0 reviews (0 fetched in total)\n",
      "2022-02-11 18:21:16,731 [INFO] Base - Initialised: AppStore('us', 'bloom-cbt-therapy-self-care', 1475128511)\n",
      "2022-02-11 18:21:16,732 [INFO] Base - Ready to fetch reviews from: https://apps.apple.com/us/app/bloom-cbt-therapy-self-care/id1475128511\n",
      "2022-02-11 18:21:37,271 [ERROR] Base - Something went wrong: HTTPSConnectionPool(host='amp-api.apps.apple.com', port=443): Max retries exceeded with url: /v1/catalog/us/apps/1475128511/reviews?l=en-GB&offset=0&limit=20&platform=web&additionalPlatforms=appletv%2Cipad%2Ciphone%2Cmac (Caused by ResponseError('too many 429 error responses'))\n",
      "2022-02-11 18:21:37,274 [INFO] Base - [id:1475128511] Fetched 0 reviews (0 fetched in total)\n",
      "2022-02-11 18:21:42,847 [INFO] Base - Initialised: AppStore('us', '7-cups-online-therapy-chat', 921814681)\n",
      "2022-02-11 18:21:42,848 [INFO] Base - Ready to fetch reviews from: https://apps.apple.com/us/app/7-cups-online-therapy-chat/id921814681\n",
      "2022-02-11 18:22:03,365 [ERROR] Base - Something went wrong: HTTPSConnectionPool(host='amp-api.apps.apple.com', port=443): Max retries exceeded with url: /v1/catalog/us/apps/921814681/reviews?l=en-GB&offset=0&limit=20&platform=web&additionalPlatforms=appletv%2Cipad%2Ciphone%2Cmac (Caused by ResponseError('too many 429 error responses'))\n",
      "2022-02-11 18:22:03,369 [INFO] Base - [id:921814681] Fetched 0 reviews (0 fetched in total)\n",
      "2022-02-11 18:22:09,809 [INFO] Base - Initialised: AppStore('us', 'sanvello-anxiety-depression', 922968861)\n",
      "2022-02-11 18:22:09,810 [INFO] Base - Ready to fetch reviews from: https://apps.apple.com/us/app/sanvello-anxiety-depression/id922968861\n",
      "2022-02-11 18:22:30,263 [ERROR] Base - Something went wrong: HTTPSConnectionPool(host='amp-api.apps.apple.com', port=443): Max retries exceeded with url: /v1/catalog/us/apps/922968861/reviews?l=en-GB&offset=0&limit=20&platform=web&additionalPlatforms=appletv%2Cipad%2Ciphone%2Cmac (Caused by ResponseError('too many 429 error responses'))\n",
      "2022-02-11 18:22:30,269 [INFO] Base - [id:922968861] Fetched 0 reviews (0 fetched in total)\n",
      "2022-02-11 18:22:36,095 [INFO] Base - Initialised: AppStore('us', 'woebot-your-self-care-expert', 1305375832)\n",
      "2022-02-11 18:22:36,095 [INFO] Base - Ready to fetch reviews from: https://apps.apple.com/us/app/woebot-your-self-care-expert/id1305375832\n",
      "2022-02-11 18:22:56,616 [ERROR] Base - Something went wrong: HTTPSConnectionPool(host='amp-api.apps.apple.com', port=443): Max retries exceeded with url: /v1/catalog/us/apps/1305375832/reviews?l=en-GB&offset=0&limit=20&platform=web&additionalPlatforms=appletv%2Cipad%2Ciphone%2Cmac (Caused by ResponseError('too many 429 error responses'))\n",
      "2022-02-11 18:22:56,621 [INFO] Base - [id:1305375832] Fetched 0 reviews (0 fetched in total)\n",
      "2022-02-11 18:23:02,169 [INFO] Base - Initialised: AppStore('us', 'larkr-on-demand-video-therapy', 1253710426)\n",
      "2022-02-11 18:23:02,169 [INFO] Base - Ready to fetch reviews from: https://apps.apple.com/us/app/larkr-on-demand-video-therapy/id1253710426\n",
      "2022-02-11 18:23:22,595 [ERROR] Base - Something went wrong: HTTPSConnectionPool(host='amp-api.apps.apple.com', port=443): Max retries exceeded with url: /v1/catalog/us/apps/1253710426/reviews?l=en-GB&offset=0&limit=20&platform=web&additionalPlatforms=appletv%2Cipad%2Ciphone%2Cmac (Caused by ResponseError('too many 429 error responses'))\n",
      "2022-02-11 18:23:22,600 [INFO] Base - [id:1253710426] Fetched 0 reviews (0 fetched in total)\n",
      "2022-02-11 19:56:51,119 [INFO] Base - Initialised: AppStore('us', 'youper-online-therapy', 1060691513)\n",
      "2022-02-11 19:56:51,120 [INFO] Base - Ready to fetch reviews from: https://apps.apple.com/us/app/youper-online-therapy/id1060691513\n",
      "2022-02-11 21:23:30,044 [ERROR] Base - Something went wrong: HTTPSConnectionPool(host='amp-api.apps.apple.com', port=443): Max retries exceeded with url: /v1/catalog/us/apps/1060691513/reviews?l=en-GB&offset=0&limit=20&platform=web&additionalPlatforms=appletv%2Cipad%2Ciphone%2Cmac (Caused by ProtocolError('Connection aborted.', OSError(\"(54, 'ECONNRESET')\")))\n",
      "2022-02-11 21:23:30,046 [INFO] Base - [id:1060691513] Fetched 0 reviews (0 fetched in total)\n"
     ]
    },
    {
     "ename": "ConnectionError",
     "evalue": "HTTPSConnectionPool(host='apps.apple.com', port=443): Max retries exceeded with url: /us/app/replika-virtual-ai-friend/id1158555867 (Caused by NewConnectionError('<urllib3.connection.HTTPSConnection object at 0x126748b20>: Failed to establish a new connection: [Errno 8] nodename nor servname provided, or not known'))",
     "output_type": "error",
     "traceback": [
      "\u001b[0;31m---------------------------------------------------------------------------\u001b[0m",
      "\u001b[0;31mgaierror\u001b[0m                                  Traceback (most recent call last)",
      "\u001b[0;32m~/.pyenv/versions/3.10.0/lib/python3.10/site-packages/urllib3/connection.py\u001b[0m in \u001b[0;36m_new_conn\u001b[0;34m(self)\u001b[0m\n\u001b[1;32m    158\u001b[0m         \u001b[0;32mtry\u001b[0m\u001b[0;34m:\u001b[0m\u001b[0;34m\u001b[0m\u001b[0;34m\u001b[0m\u001b[0m\n\u001b[0;32m--> 159\u001b[0;31m             conn = connection.create_connection(\n\u001b[0m\u001b[1;32m    160\u001b[0m                 \u001b[0;34m(\u001b[0m\u001b[0mself\u001b[0m\u001b[0;34m.\u001b[0m\u001b[0m_dns_host\u001b[0m\u001b[0;34m,\u001b[0m \u001b[0mself\u001b[0m\u001b[0;34m.\u001b[0m\u001b[0mport\u001b[0m\u001b[0;34m)\u001b[0m\u001b[0;34m,\u001b[0m \u001b[0mself\u001b[0m\u001b[0;34m.\u001b[0m\u001b[0mtimeout\u001b[0m\u001b[0;34m,\u001b[0m \u001b[0;34m**\u001b[0m\u001b[0mextra_kw\u001b[0m\u001b[0;34m\u001b[0m\u001b[0;34m\u001b[0m\u001b[0m\n",
      "\u001b[0;32m~/.pyenv/versions/3.10.0/lib/python3.10/site-packages/urllib3/util/connection.py\u001b[0m in \u001b[0;36mcreate_connection\u001b[0;34m(address, timeout, source_address, socket_options)\u001b[0m\n\u001b[1;32m     60\u001b[0m \u001b[0;34m\u001b[0m\u001b[0m\n\u001b[0;32m---> 61\u001b[0;31m     \u001b[0;32mfor\u001b[0m \u001b[0mres\u001b[0m \u001b[0;32min\u001b[0m \u001b[0msocket\u001b[0m\u001b[0;34m.\u001b[0m\u001b[0mgetaddrinfo\u001b[0m\u001b[0;34m(\u001b[0m\u001b[0mhost\u001b[0m\u001b[0;34m,\u001b[0m \u001b[0mport\u001b[0m\u001b[0;34m,\u001b[0m \u001b[0mfamily\u001b[0m\u001b[0;34m,\u001b[0m \u001b[0msocket\u001b[0m\u001b[0;34m.\u001b[0m\u001b[0mSOCK_STREAM\u001b[0m\u001b[0;34m)\u001b[0m\u001b[0;34m:\u001b[0m\u001b[0;34m\u001b[0m\u001b[0;34m\u001b[0m\u001b[0m\n\u001b[0m\u001b[1;32m     62\u001b[0m         \u001b[0maf\u001b[0m\u001b[0;34m,\u001b[0m \u001b[0msocktype\u001b[0m\u001b[0;34m,\u001b[0m \u001b[0mproto\u001b[0m\u001b[0;34m,\u001b[0m \u001b[0mcanonname\u001b[0m\u001b[0;34m,\u001b[0m \u001b[0msa\u001b[0m \u001b[0;34m=\u001b[0m \u001b[0mres\u001b[0m\u001b[0;34m\u001b[0m\u001b[0;34m\u001b[0m\u001b[0m\n",
      "\u001b[0;32m~/.pyenv/versions/3.10.0/lib/python3.10/socket.py\u001b[0m in \u001b[0;36mgetaddrinfo\u001b[0;34m(host, port, family, type, proto, flags)\u001b[0m\n\u001b[1;32m    954\u001b[0m     \u001b[0maddrlist\u001b[0m \u001b[0;34m=\u001b[0m \u001b[0;34m[\u001b[0m\u001b[0;34m]\u001b[0m\u001b[0;34m\u001b[0m\u001b[0;34m\u001b[0m\u001b[0m\n\u001b[0;32m--> 955\u001b[0;31m     \u001b[0;32mfor\u001b[0m \u001b[0mres\u001b[0m \u001b[0;32min\u001b[0m \u001b[0m_socket\u001b[0m\u001b[0;34m.\u001b[0m\u001b[0mgetaddrinfo\u001b[0m\u001b[0;34m(\u001b[0m\u001b[0mhost\u001b[0m\u001b[0;34m,\u001b[0m \u001b[0mport\u001b[0m\u001b[0;34m,\u001b[0m \u001b[0mfamily\u001b[0m\u001b[0;34m,\u001b[0m \u001b[0mtype\u001b[0m\u001b[0;34m,\u001b[0m \u001b[0mproto\u001b[0m\u001b[0;34m,\u001b[0m \u001b[0mflags\u001b[0m\u001b[0;34m)\u001b[0m\u001b[0;34m:\u001b[0m\u001b[0;34m\u001b[0m\u001b[0;34m\u001b[0m\u001b[0m\n\u001b[0m\u001b[1;32m    956\u001b[0m         \u001b[0maf\u001b[0m\u001b[0;34m,\u001b[0m \u001b[0msocktype\u001b[0m\u001b[0;34m,\u001b[0m \u001b[0mproto\u001b[0m\u001b[0;34m,\u001b[0m \u001b[0mcanonname\u001b[0m\u001b[0;34m,\u001b[0m \u001b[0msa\u001b[0m \u001b[0;34m=\u001b[0m \u001b[0mres\u001b[0m\u001b[0;34m\u001b[0m\u001b[0;34m\u001b[0m\u001b[0m\n",
      "\u001b[0;31mgaierror\u001b[0m: [Errno 8] nodename nor servname provided, or not known",
      "\nDuring handling of the above exception, another exception occurred:\n",
      "\u001b[0;31mNewConnectionError\u001b[0m                        Traceback (most recent call last)",
      "\u001b[0;32m~/.pyenv/versions/3.10.0/lib/python3.10/site-packages/urllib3/connectionpool.py\u001b[0m in \u001b[0;36murlopen\u001b[0;34m(self, method, url, body, headers, retries, redirect, assert_same_host, timeout, pool_timeout, release_conn, chunked, body_pos, **response_kw)\u001b[0m\n\u001b[1;32m    669\u001b[0m             \u001b[0;31m# Make the request on the httplib connection object.\u001b[0m\u001b[0;34m\u001b[0m\u001b[0;34m\u001b[0m\u001b[0m\n\u001b[0;32m--> 670\u001b[0;31m             httplib_response = self._make_request(\n\u001b[0m\u001b[1;32m    671\u001b[0m                 \u001b[0mconn\u001b[0m\u001b[0;34m,\u001b[0m\u001b[0;34m\u001b[0m\u001b[0;34m\u001b[0m\u001b[0m\n",
      "\u001b[0;32m~/.pyenv/versions/3.10.0/lib/python3.10/site-packages/urllib3/connectionpool.py\u001b[0m in \u001b[0;36m_make_request\u001b[0;34m(self, conn, method, url, timeout, chunked, **httplib_request_kw)\u001b[0m\n\u001b[1;32m    380\u001b[0m         \u001b[0;32mtry\u001b[0m\u001b[0;34m:\u001b[0m\u001b[0;34m\u001b[0m\u001b[0;34m\u001b[0m\u001b[0m\n\u001b[0;32m--> 381\u001b[0;31m             \u001b[0mself\u001b[0m\u001b[0;34m.\u001b[0m\u001b[0m_validate_conn\u001b[0m\u001b[0;34m(\u001b[0m\u001b[0mconn\u001b[0m\u001b[0;34m)\u001b[0m\u001b[0;34m\u001b[0m\u001b[0;34m\u001b[0m\u001b[0m\n\u001b[0m\u001b[1;32m    382\u001b[0m         \u001b[0;32mexcept\u001b[0m \u001b[0;34m(\u001b[0m\u001b[0mSocketTimeout\u001b[0m\u001b[0;34m,\u001b[0m \u001b[0mBaseSSLError\u001b[0m\u001b[0;34m)\u001b[0m \u001b[0;32mas\u001b[0m \u001b[0me\u001b[0m\u001b[0;34m:\u001b[0m\u001b[0;34m\u001b[0m\u001b[0;34m\u001b[0m\u001b[0m\n",
      "\u001b[0;32m~/.pyenv/versions/3.10.0/lib/python3.10/site-packages/urllib3/connectionpool.py\u001b[0m in \u001b[0;36m_validate_conn\u001b[0;34m(self, conn)\u001b[0m\n\u001b[1;32m    977\u001b[0m         \u001b[0;32mif\u001b[0m \u001b[0;32mnot\u001b[0m \u001b[0mgetattr\u001b[0m\u001b[0;34m(\u001b[0m\u001b[0mconn\u001b[0m\u001b[0;34m,\u001b[0m \u001b[0;34m\"sock\"\u001b[0m\u001b[0;34m,\u001b[0m \u001b[0;32mNone\u001b[0m\u001b[0;34m)\u001b[0m\u001b[0;34m:\u001b[0m  \u001b[0;31m# AppEngine might not have  `.sock`\u001b[0m\u001b[0;34m\u001b[0m\u001b[0;34m\u001b[0m\u001b[0m\n\u001b[0;32m--> 978\u001b[0;31m             \u001b[0mconn\u001b[0m\u001b[0;34m.\u001b[0m\u001b[0mconnect\u001b[0m\u001b[0;34m(\u001b[0m\u001b[0;34m)\u001b[0m\u001b[0;34m\u001b[0m\u001b[0;34m\u001b[0m\u001b[0m\n\u001b[0m\u001b[1;32m    979\u001b[0m \u001b[0;34m\u001b[0m\u001b[0m\n",
      "\u001b[0;32m~/.pyenv/versions/3.10.0/lib/python3.10/site-packages/urllib3/connection.py\u001b[0m in \u001b[0;36mconnect\u001b[0;34m(self)\u001b[0m\n\u001b[1;32m    308\u001b[0m         \u001b[0;31m# Add certificate verification\u001b[0m\u001b[0;34m\u001b[0m\u001b[0;34m\u001b[0m\u001b[0m\n\u001b[0;32m--> 309\u001b[0;31m         \u001b[0mconn\u001b[0m \u001b[0;34m=\u001b[0m \u001b[0mself\u001b[0m\u001b[0;34m.\u001b[0m\u001b[0m_new_conn\u001b[0m\u001b[0;34m(\u001b[0m\u001b[0;34m)\u001b[0m\u001b[0;34m\u001b[0m\u001b[0;34m\u001b[0m\u001b[0m\n\u001b[0m\u001b[1;32m    310\u001b[0m         \u001b[0mhostname\u001b[0m \u001b[0;34m=\u001b[0m \u001b[0mself\u001b[0m\u001b[0;34m.\u001b[0m\u001b[0mhost\u001b[0m\u001b[0;34m\u001b[0m\u001b[0;34m\u001b[0m\u001b[0m\n",
      "\u001b[0;32m~/.pyenv/versions/3.10.0/lib/python3.10/site-packages/urllib3/connection.py\u001b[0m in \u001b[0;36m_new_conn\u001b[0;34m(self)\u001b[0m\n\u001b[1;32m    170\u001b[0m         \u001b[0;32mexcept\u001b[0m \u001b[0mSocketError\u001b[0m \u001b[0;32mas\u001b[0m \u001b[0me\u001b[0m\u001b[0;34m:\u001b[0m\u001b[0;34m\u001b[0m\u001b[0;34m\u001b[0m\u001b[0m\n\u001b[0;32m--> 171\u001b[0;31m             raise NewConnectionError(\n\u001b[0m\u001b[1;32m    172\u001b[0m                 \u001b[0mself\u001b[0m\u001b[0;34m,\u001b[0m \u001b[0;34m\"Failed to establish a new connection: %s\"\u001b[0m \u001b[0;34m%\u001b[0m \u001b[0me\u001b[0m\u001b[0;34m\u001b[0m\u001b[0;34m\u001b[0m\u001b[0m\n",
      "\u001b[0;31mNewConnectionError\u001b[0m: <urllib3.connection.HTTPSConnection object at 0x126748b20>: Failed to establish a new connection: [Errno 8] nodename nor servname provided, or not known",
      "\nDuring handling of the above exception, another exception occurred:\n",
      "\u001b[0;31mMaxRetryError\u001b[0m                             Traceback (most recent call last)",
      "\u001b[0;32m~/.pyenv/versions/3.10.0/lib/python3.10/site-packages/requests/adapters.py\u001b[0m in \u001b[0;36msend\u001b[0;34m(self, request, stream, timeout, verify, cert, proxies)\u001b[0m\n\u001b[1;32m    438\u001b[0m             \u001b[0;32mif\u001b[0m \u001b[0;32mnot\u001b[0m \u001b[0mchunked\u001b[0m\u001b[0;34m:\u001b[0m\u001b[0;34m\u001b[0m\u001b[0;34m\u001b[0m\u001b[0m\n\u001b[0;32m--> 439\u001b[0;31m                 resp = conn.urlopen(\n\u001b[0m\u001b[1;32m    440\u001b[0m                     \u001b[0mmethod\u001b[0m\u001b[0;34m=\u001b[0m\u001b[0mrequest\u001b[0m\u001b[0;34m.\u001b[0m\u001b[0mmethod\u001b[0m\u001b[0;34m,\u001b[0m\u001b[0;34m\u001b[0m\u001b[0;34m\u001b[0m\u001b[0m\n",
      "\u001b[0;32m~/.pyenv/versions/3.10.0/lib/python3.10/site-packages/urllib3/connectionpool.py\u001b[0m in \u001b[0;36murlopen\u001b[0;34m(self, method, url, body, headers, retries, redirect, assert_same_host, timeout, pool_timeout, release_conn, chunked, body_pos, **response_kw)\u001b[0m\n\u001b[1;32m    725\u001b[0m \u001b[0;34m\u001b[0m\u001b[0m\n\u001b[0;32m--> 726\u001b[0;31m             retries = retries.increment(\n\u001b[0m\u001b[1;32m    727\u001b[0m                 \u001b[0mmethod\u001b[0m\u001b[0;34m,\u001b[0m \u001b[0murl\u001b[0m\u001b[0;34m,\u001b[0m \u001b[0merror\u001b[0m\u001b[0;34m=\u001b[0m\u001b[0me\u001b[0m\u001b[0;34m,\u001b[0m \u001b[0m_pool\u001b[0m\u001b[0;34m=\u001b[0m\u001b[0mself\u001b[0m\u001b[0;34m,\u001b[0m \u001b[0m_stacktrace\u001b[0m\u001b[0;34m=\u001b[0m\u001b[0msys\u001b[0m\u001b[0;34m.\u001b[0m\u001b[0mexc_info\u001b[0m\u001b[0;34m(\u001b[0m\u001b[0;34m)\u001b[0m\u001b[0;34m[\u001b[0m\u001b[0;36m2\u001b[0m\u001b[0;34m]\u001b[0m\u001b[0;34m\u001b[0m\u001b[0;34m\u001b[0m\u001b[0m\n",
      "\u001b[0;32m~/.pyenv/versions/3.10.0/lib/python3.10/site-packages/urllib3/util/retry.py\u001b[0m in \u001b[0;36mincrement\u001b[0;34m(self, method, url, response, error, _pool, _stacktrace)\u001b[0m\n\u001b[1;32m    445\u001b[0m         \u001b[0;32mif\u001b[0m \u001b[0mnew_retry\u001b[0m\u001b[0;34m.\u001b[0m\u001b[0mis_exhausted\u001b[0m\u001b[0;34m(\u001b[0m\u001b[0;34m)\u001b[0m\u001b[0;34m:\u001b[0m\u001b[0;34m\u001b[0m\u001b[0;34m\u001b[0m\u001b[0m\n\u001b[0;32m--> 446\u001b[0;31m             \u001b[0;32mraise\u001b[0m \u001b[0mMaxRetryError\u001b[0m\u001b[0;34m(\u001b[0m\u001b[0m_pool\u001b[0m\u001b[0;34m,\u001b[0m \u001b[0murl\u001b[0m\u001b[0;34m,\u001b[0m \u001b[0merror\u001b[0m \u001b[0;32mor\u001b[0m \u001b[0mResponseError\u001b[0m\u001b[0;34m(\u001b[0m\u001b[0mcause\u001b[0m\u001b[0;34m)\u001b[0m\u001b[0;34m)\u001b[0m\u001b[0;34m\u001b[0m\u001b[0;34m\u001b[0m\u001b[0m\n\u001b[0m\u001b[1;32m    447\u001b[0m \u001b[0;34m\u001b[0m\u001b[0m\n",
      "\u001b[0;31mMaxRetryError\u001b[0m: HTTPSConnectionPool(host='apps.apple.com', port=443): Max retries exceeded with url: /us/app/replika-virtual-ai-friend/id1158555867 (Caused by NewConnectionError('<urllib3.connection.HTTPSConnection object at 0x126748b20>: Failed to establish a new connection: [Errno 8] nodename nor servname provided, or not known'))",
      "\nDuring handling of the above exception, another exception occurred:\n",
      "\u001b[0;31mConnectionError\u001b[0m                           Traceback (most recent call last)",
      "\u001b[0;32m/var/folders/tx/ryc062z51z1287rjpvrp4jlc0000gn/T/ipykernel_1258/1218849398.py\u001b[0m in \u001b[0;36m<module>\u001b[0;34m\u001b[0m\n\u001b[1;32m      1\u001b[0m \u001b[0mall_reviews\u001b[0m \u001b[0;34m=\u001b[0m \u001b[0;34m[\u001b[0m\u001b[0;34m]\u001b[0m\u001b[0;34m\u001b[0m\u001b[0;34m\u001b[0m\u001b[0m\n\u001b[1;32m      2\u001b[0m \u001b[0;32mfor\u001b[0m \u001b[0mapp\u001b[0m \u001b[0;32min\u001b[0m \u001b[0mapp_names_ids\u001b[0m\u001b[0;34m:\u001b[0m\u001b[0;34m\u001b[0m\u001b[0;34m\u001b[0m\u001b[0m\n\u001b[0;32m----> 3\u001b[0;31m     my_app = AppStore(\n\u001b[0m\u001b[1;32m      4\u001b[0m       \u001b[0mcountry\u001b[0m\u001b[0;34m=\u001b[0m\u001b[0;34m'us'\u001b[0m\u001b[0;34m,\u001b[0m\u001b[0;34m\u001b[0m\u001b[0;34m\u001b[0m\u001b[0m\n\u001b[1;32m      5\u001b[0m       \u001b[0mapp_name\u001b[0m\u001b[0;34m=\u001b[0m\u001b[0mapp\u001b[0m\u001b[0;34m[\u001b[0m\u001b[0;34m'name'\u001b[0m\u001b[0;34m]\u001b[0m\u001b[0;34m,\u001b[0m\u001b[0;34m\u001b[0m\u001b[0;34m\u001b[0m\u001b[0m\n",
      "\u001b[0;32m~/.pyenv/versions/3.10.0/lib/python3.10/site-packages/app_store_scraper/app_store.py\u001b[0m in \u001b[0;36m__init__\u001b[0;34m(self, country, app_name, app_id, log_format, log_level, log_interval)\u001b[0m\n\u001b[1;32m     21\u001b[0m         \u001b[0mlog_interval\u001b[0m\u001b[0;34m=\u001b[0m\u001b[0;36m5\u001b[0m\u001b[0;34m,\u001b[0m\u001b[0;34m\u001b[0m\u001b[0;34m\u001b[0m\u001b[0m\n\u001b[1;32m     22\u001b[0m     ):\n\u001b[0;32m---> 23\u001b[0;31m         super().__init__(\n\u001b[0m\u001b[1;32m     24\u001b[0m             \u001b[0mcountry\u001b[0m\u001b[0;34m=\u001b[0m\u001b[0mcountry\u001b[0m\u001b[0;34m,\u001b[0m\u001b[0;34m\u001b[0m\u001b[0;34m\u001b[0m\u001b[0m\n\u001b[1;32m     25\u001b[0m             \u001b[0mapp_name\u001b[0m\u001b[0;34m=\u001b[0m\u001b[0mapp_name\u001b[0m\u001b[0;34m,\u001b[0m\u001b[0;34m\u001b[0m\u001b[0;34m\u001b[0m\u001b[0m\n",
      "\u001b[0;32m~/.pyenv/versions/3.10.0/lib/python3.10/site-packages/app_store_scraper/base.py\u001b[0m in \u001b[0;36m__init__\u001b[0;34m(self, country, app_name, app_id, log_format, log_level, log_interval)\u001b[0m\n\u001b[1;32m     62\u001b[0m         self._request_headers = {\n\u001b[1;32m     63\u001b[0m             \u001b[0;34m\"Accept\"\u001b[0m\u001b[0;34m:\u001b[0m \u001b[0;34m\"application/json\"\u001b[0m\u001b[0;34m,\u001b[0m\u001b[0;34m\u001b[0m\u001b[0;34m\u001b[0m\u001b[0m\n\u001b[0;32m---> 64\u001b[0;31m             \u001b[0;34m\"Authorization\"\u001b[0m\u001b[0;34m:\u001b[0m \u001b[0mself\u001b[0m\u001b[0;34m.\u001b[0m\u001b[0m_token\u001b[0m\u001b[0;34m(\u001b[0m\u001b[0;34m)\u001b[0m\u001b[0;34m,\u001b[0m\u001b[0;34m\u001b[0m\u001b[0;34m\u001b[0m\u001b[0m\n\u001b[0m\u001b[1;32m     65\u001b[0m             \u001b[0;34m\"Connection\"\u001b[0m\u001b[0;34m:\u001b[0m \u001b[0;34m\"keep-alive\"\u001b[0m\u001b[0;34m,\u001b[0m\u001b[0;34m\u001b[0m\u001b[0;34m\u001b[0m\u001b[0m\n\u001b[1;32m     66\u001b[0m             \u001b[0;34m\"Content-Type\"\u001b[0m\u001b[0;34m:\u001b[0m \u001b[0;34m\"application/x-www-form-urlencoded; charset=UTF-8\"\u001b[0m\u001b[0;34m,\u001b[0m\u001b[0;34m\u001b[0m\u001b[0;34m\u001b[0m\u001b[0m\n",
      "\u001b[0;32m~/.pyenv/versions/3.10.0/lib/python3.10/site-packages/app_store_scraper/base.py\u001b[0m in \u001b[0;36m_token\u001b[0;34m(self)\u001b[0m\n\u001b[1;32m    126\u001b[0m \u001b[0;34m\u001b[0m\u001b[0m\n\u001b[1;32m    127\u001b[0m     \u001b[0;32mdef\u001b[0m \u001b[0m_token\u001b[0m\u001b[0;34m(\u001b[0m\u001b[0mself\u001b[0m\u001b[0;34m)\u001b[0m\u001b[0;34m:\u001b[0m\u001b[0;34m\u001b[0m\u001b[0;34m\u001b[0m\u001b[0m\n\u001b[0;32m--> 128\u001b[0;31m         \u001b[0mself\u001b[0m\u001b[0;34m.\u001b[0m\u001b[0m_get\u001b[0m\u001b[0;34m(\u001b[0m\u001b[0mself\u001b[0m\u001b[0;34m.\u001b[0m\u001b[0murl\u001b[0m\u001b[0;34m)\u001b[0m\u001b[0;34m\u001b[0m\u001b[0;34m\u001b[0m\u001b[0m\n\u001b[0m\u001b[1;32m    129\u001b[0m         \u001b[0mtags\u001b[0m \u001b[0;34m=\u001b[0m \u001b[0mself\u001b[0m\u001b[0;34m.\u001b[0m\u001b[0m_response\u001b[0m\u001b[0;34m.\u001b[0m\u001b[0mtext\u001b[0m\u001b[0;34m.\u001b[0m\u001b[0msplitlines\u001b[0m\u001b[0;34m(\u001b[0m\u001b[0;34m)\u001b[0m\u001b[0;34m\u001b[0m\u001b[0;34m\u001b[0m\u001b[0m\n\u001b[1;32m    130\u001b[0m         \u001b[0;32mfor\u001b[0m \u001b[0mtag\u001b[0m \u001b[0;32min\u001b[0m \u001b[0mtags\u001b[0m\u001b[0;34m:\u001b[0m\u001b[0;34m\u001b[0m\u001b[0;34m\u001b[0m\u001b[0m\n",
      "\u001b[0;32m~/.pyenv/versions/3.10.0/lib/python3.10/site-packages/app_store_scraper/base.py\u001b[0m in \u001b[0;36m_get\u001b[0;34m(self, url, headers, params, total, backoff_factor, status_forcelist)\u001b[0m\n\u001b[1;32m    123\u001b[0m             \u001b[0ms\u001b[0m\u001b[0;34m.\u001b[0m\u001b[0mmount\u001b[0m\u001b[0;34m(\u001b[0m\u001b[0mself\u001b[0m\u001b[0;34m.\u001b[0m\u001b[0m_base_request_url\u001b[0m\u001b[0;34m,\u001b[0m \u001b[0mHTTPAdapter\u001b[0m\u001b[0;34m(\u001b[0m\u001b[0mmax_retries\u001b[0m\u001b[0;34m=\u001b[0m\u001b[0mretries\u001b[0m\u001b[0;34m)\u001b[0m\u001b[0;34m)\u001b[0m\u001b[0;34m\u001b[0m\u001b[0;34m\u001b[0m\u001b[0m\n\u001b[1;32m    124\u001b[0m             \u001b[0mlogger\u001b[0m\u001b[0;34m.\u001b[0m\u001b[0mdebug\u001b[0m\u001b[0;34m(\u001b[0m\u001b[0;34mf\"Making a GET request: {url}\"\u001b[0m\u001b[0;34m)\u001b[0m\u001b[0;34m\u001b[0m\u001b[0;34m\u001b[0m\u001b[0m\n\u001b[0;32m--> 125\u001b[0;31m             \u001b[0mself\u001b[0m\u001b[0;34m.\u001b[0m\u001b[0m_response\u001b[0m \u001b[0;34m=\u001b[0m \u001b[0ms\u001b[0m\u001b[0;34m.\u001b[0m\u001b[0mget\u001b[0m\u001b[0;34m(\u001b[0m\u001b[0murl\u001b[0m\u001b[0;34m,\u001b[0m \u001b[0mheaders\u001b[0m\u001b[0;34m=\u001b[0m\u001b[0mheaders\u001b[0m\u001b[0;34m,\u001b[0m \u001b[0mparams\u001b[0m\u001b[0;34m=\u001b[0m\u001b[0mparams\u001b[0m\u001b[0;34m)\u001b[0m\u001b[0;34m\u001b[0m\u001b[0;34m\u001b[0m\u001b[0m\n\u001b[0m\u001b[1;32m    126\u001b[0m \u001b[0;34m\u001b[0m\u001b[0m\n\u001b[1;32m    127\u001b[0m     \u001b[0;32mdef\u001b[0m \u001b[0m_token\u001b[0m\u001b[0;34m(\u001b[0m\u001b[0mself\u001b[0m\u001b[0;34m)\u001b[0m\u001b[0;34m:\u001b[0m\u001b[0;34m\u001b[0m\u001b[0;34m\u001b[0m\u001b[0m\n",
      "\u001b[0;32m~/.pyenv/versions/3.10.0/lib/python3.10/site-packages/requests/sessions.py\u001b[0m in \u001b[0;36mget\u001b[0;34m(self, url, **kwargs)\u001b[0m\n\u001b[1;32m    541\u001b[0m \u001b[0;34m\u001b[0m\u001b[0m\n\u001b[1;32m    542\u001b[0m         \u001b[0mkwargs\u001b[0m\u001b[0;34m.\u001b[0m\u001b[0msetdefault\u001b[0m\u001b[0;34m(\u001b[0m\u001b[0;34m'allow_redirects'\u001b[0m\u001b[0;34m,\u001b[0m \u001b[0;32mTrue\u001b[0m\u001b[0;34m)\u001b[0m\u001b[0;34m\u001b[0m\u001b[0;34m\u001b[0m\u001b[0m\n\u001b[0;32m--> 543\u001b[0;31m         \u001b[0;32mreturn\u001b[0m \u001b[0mself\u001b[0m\u001b[0;34m.\u001b[0m\u001b[0mrequest\u001b[0m\u001b[0;34m(\u001b[0m\u001b[0;34m'GET'\u001b[0m\u001b[0;34m,\u001b[0m \u001b[0murl\u001b[0m\u001b[0;34m,\u001b[0m \u001b[0;34m**\u001b[0m\u001b[0mkwargs\u001b[0m\u001b[0;34m)\u001b[0m\u001b[0;34m\u001b[0m\u001b[0;34m\u001b[0m\u001b[0m\n\u001b[0m\u001b[1;32m    544\u001b[0m \u001b[0;34m\u001b[0m\u001b[0m\n\u001b[1;32m    545\u001b[0m     \u001b[0;32mdef\u001b[0m \u001b[0moptions\u001b[0m\u001b[0;34m(\u001b[0m\u001b[0mself\u001b[0m\u001b[0;34m,\u001b[0m \u001b[0murl\u001b[0m\u001b[0;34m,\u001b[0m \u001b[0;34m**\u001b[0m\u001b[0mkwargs\u001b[0m\u001b[0;34m)\u001b[0m\u001b[0;34m:\u001b[0m\u001b[0;34m\u001b[0m\u001b[0;34m\u001b[0m\u001b[0m\n",
      "\u001b[0;32m~/.pyenv/versions/3.10.0/lib/python3.10/site-packages/requests/sessions.py\u001b[0m in \u001b[0;36mrequest\u001b[0;34m(self, method, url, params, data, headers, cookies, files, auth, timeout, allow_redirects, proxies, hooks, stream, verify, cert, json)\u001b[0m\n\u001b[1;32m    528\u001b[0m         }\n\u001b[1;32m    529\u001b[0m         \u001b[0msend_kwargs\u001b[0m\u001b[0;34m.\u001b[0m\u001b[0mupdate\u001b[0m\u001b[0;34m(\u001b[0m\u001b[0msettings\u001b[0m\u001b[0;34m)\u001b[0m\u001b[0;34m\u001b[0m\u001b[0;34m\u001b[0m\u001b[0m\n\u001b[0;32m--> 530\u001b[0;31m         \u001b[0mresp\u001b[0m \u001b[0;34m=\u001b[0m \u001b[0mself\u001b[0m\u001b[0;34m.\u001b[0m\u001b[0msend\u001b[0m\u001b[0;34m(\u001b[0m\u001b[0mprep\u001b[0m\u001b[0;34m,\u001b[0m \u001b[0;34m**\u001b[0m\u001b[0msend_kwargs\u001b[0m\u001b[0;34m)\u001b[0m\u001b[0;34m\u001b[0m\u001b[0;34m\u001b[0m\u001b[0m\n\u001b[0m\u001b[1;32m    531\u001b[0m \u001b[0;34m\u001b[0m\u001b[0m\n\u001b[1;32m    532\u001b[0m         \u001b[0;32mreturn\u001b[0m \u001b[0mresp\u001b[0m\u001b[0;34m\u001b[0m\u001b[0;34m\u001b[0m\u001b[0m\n",
      "\u001b[0;32m~/.pyenv/versions/3.10.0/lib/python3.10/site-packages/requests/sessions.py\u001b[0m in \u001b[0;36msend\u001b[0;34m(self, request, **kwargs)\u001b[0m\n\u001b[1;32m    641\u001b[0m \u001b[0;34m\u001b[0m\u001b[0m\n\u001b[1;32m    642\u001b[0m         \u001b[0;31m# Send the request\u001b[0m\u001b[0;34m\u001b[0m\u001b[0;34m\u001b[0m\u001b[0m\n\u001b[0;32m--> 643\u001b[0;31m         \u001b[0mr\u001b[0m \u001b[0;34m=\u001b[0m \u001b[0madapter\u001b[0m\u001b[0;34m.\u001b[0m\u001b[0msend\u001b[0m\u001b[0;34m(\u001b[0m\u001b[0mrequest\u001b[0m\u001b[0;34m,\u001b[0m \u001b[0;34m**\u001b[0m\u001b[0mkwargs\u001b[0m\u001b[0;34m)\u001b[0m\u001b[0;34m\u001b[0m\u001b[0;34m\u001b[0m\u001b[0m\n\u001b[0m\u001b[1;32m    644\u001b[0m \u001b[0;34m\u001b[0m\u001b[0m\n\u001b[1;32m    645\u001b[0m         \u001b[0;31m# Total elapsed time of the request (approximately)\u001b[0m\u001b[0;34m\u001b[0m\u001b[0;34m\u001b[0m\u001b[0m\n",
      "\u001b[0;32m~/.pyenv/versions/3.10.0/lib/python3.10/site-packages/requests/adapters.py\u001b[0m in \u001b[0;36msend\u001b[0;34m(self, request, stream, timeout, verify, cert, proxies)\u001b[0m\n\u001b[1;32m    514\u001b[0m                 \u001b[0;32mraise\u001b[0m \u001b[0mSSLError\u001b[0m\u001b[0;34m(\u001b[0m\u001b[0me\u001b[0m\u001b[0;34m,\u001b[0m \u001b[0mrequest\u001b[0m\u001b[0;34m=\u001b[0m\u001b[0mrequest\u001b[0m\u001b[0;34m)\u001b[0m\u001b[0;34m\u001b[0m\u001b[0;34m\u001b[0m\u001b[0m\n\u001b[1;32m    515\u001b[0m \u001b[0;34m\u001b[0m\u001b[0m\n\u001b[0;32m--> 516\u001b[0;31m             \u001b[0;32mraise\u001b[0m \u001b[0mConnectionError\u001b[0m\u001b[0;34m(\u001b[0m\u001b[0me\u001b[0m\u001b[0;34m,\u001b[0m \u001b[0mrequest\u001b[0m\u001b[0;34m=\u001b[0m\u001b[0mrequest\u001b[0m\u001b[0;34m)\u001b[0m\u001b[0;34m\u001b[0m\u001b[0;34m\u001b[0m\u001b[0m\n\u001b[0m\u001b[1;32m    517\u001b[0m \u001b[0;34m\u001b[0m\u001b[0m\n\u001b[1;32m    518\u001b[0m         \u001b[0;32mexcept\u001b[0m \u001b[0mClosedPoolError\u001b[0m \u001b[0;32mas\u001b[0m \u001b[0me\u001b[0m\u001b[0;34m:\u001b[0m\u001b[0;34m\u001b[0m\u001b[0;34m\u001b[0m\u001b[0m\n",
      "\u001b[0;31mConnectionError\u001b[0m: HTTPSConnectionPool(host='apps.apple.com', port=443): Max retries exceeded with url: /us/app/replika-virtual-ai-friend/id1158555867 (Caused by NewConnectionError('<urllib3.connection.HTTPSConnection object at 0x126748b20>: Failed to establish a new connection: [Errno 8] nodename nor servname provided, or not known'))"
     ]
    }
   ],
   "source": [
    "all_reviews = []\n",
    "for app in app_names_ids:\n",
    "    my_app = AppStore(\n",
    "      country='us',       \n",
    "      app_name=app['name'], \n",
    "      app_id=app['id']    \n",
    "    ) \n",
    "\n",
    "    my_app.review(\n",
    "      how_many=1500,\n",
    "      sleep=time.sleep(2)\n",
    "    )\n",
    "    \n",
    "    reviews = my_app.reviews\n",
    "    \n",
    "    for review in reviews:\n",
    "        review['app_name'] = app['name']\n",
    "        review['app_id'] = app['id']\n",
    "        \n",
    "    reviews_df = pd.DataFrame(reviews)\n",
    "    all_reviews.append(reviews_df)\n",
    "    time.sleep(5)"
   ]
  },
  {
   "cell_type": "code",
   "execution_count": null,
   "id": "335af361",
   "metadata": {},
   "outputs": [],
   "source": []
  },
  {
   "cell_type": "markdown",
   "id": "47deda36",
   "metadata": {},
   "source": [
    "## Analysis"
   ]
  },
  {
   "cell_type": "markdown",
   "id": "02f8f6be",
   "metadata": {},
   "source": [
    "I haven't done much yet! But I plan to start with search terms such as insurance, love, refund, hate, worth, customer service"
   ]
  },
  {
   "cell_type": "markdown",
   "id": "58a498f9",
   "metadata": {},
   "source": [
    "### Insurance and cost issues"
   ]
  },
  {
   "cell_type": "code",
   "execution_count": null,
   "id": "7f90bfc2",
   "metadata": {},
   "outputs": [],
   "source": []
  },
  {
   "cell_type": "markdown",
   "id": "fc5f62db",
   "metadata": {},
   "source": [
    "## Getting app details (ignore for now)"
   ]
  },
  {
   "cell_type": "code",
   "execution_count": null,
   "id": "7ae81bc8",
   "metadata": {},
   "outputs": [],
   "source": [
    "#potentially delete next few rows"
   ]
  },
  {
   "cell_type": "code",
   "execution_count": 4,
   "id": "7e6e4355",
   "metadata": {},
   "outputs": [],
   "source": [
    "scraper = AppStoreScraper()"
   ]
  },
  {
   "cell_type": "code",
   "execution_count": 13,
   "id": "0f549aa2",
   "metadata": {},
   "outputs": [],
   "source": [
    "data = scraper.get_multiple_app_details([661829386])"
   ]
  },
  {
   "cell_type": "code",
   "execution_count": 14,
   "id": "1b3c28ed",
   "metadata": {
    "scrolled": true
   },
   "outputs": [
    {
     "name": "stdout",
     "output_type": "stream",
     "text": [
      "https://itunes.apple.com/lookup?id=661829386&country=nl&entity=software\n"
     ]
    },
    {
     "data": {
      "text/html": [
       "<div>\n",
       "<style scoped>\n",
       "    .dataframe tbody tr th:only-of-type {\n",
       "        vertical-align: middle;\n",
       "    }\n",
       "\n",
       "    .dataframe tbody tr th {\n",
       "        vertical-align: top;\n",
       "    }\n",
       "\n",
       "    .dataframe thead th {\n",
       "        text-align: right;\n",
       "    }\n",
       "</style>\n",
       "<table border=\"1\" class=\"dataframe\">\n",
       "  <thead>\n",
       "    <tr style=\"text-align: right;\">\n",
       "      <th></th>\n",
       "      <th>screenshotUrls</th>\n",
       "      <th>ipadScreenshotUrls</th>\n",
       "      <th>appletvScreenshotUrls</th>\n",
       "      <th>artworkUrl60</th>\n",
       "      <th>artworkUrl512</th>\n",
       "      <th>artworkUrl100</th>\n",
       "      <th>artistViewUrl</th>\n",
       "      <th>features</th>\n",
       "      <th>isGameCenterEnabled</th>\n",
       "      <th>supportedDevices</th>\n",
       "      <th>advisories</th>\n",
       "      <th>kind</th>\n",
       "      <th>minimumOsVersion</th>\n",
       "      <th>trackCensoredName</th>\n",
       "      <th>languageCodesISO2A</th>\n",
       "      <th>fileSizeBytes</th>\n",
       "      <th>sellerUrl</th>\n",
       "      <th>formattedPrice</th>\n",
       "      <th>contentAdvisoryRating</th>\n",
       "      <th>averageUserRatingForCurrentVersion</th>\n",
       "      <th>userRatingCountForCurrentVersion</th>\n",
       "      <th>averageUserRating</th>\n",
       "      <th>trackViewUrl</th>\n",
       "      <th>trackContentRating</th>\n",
       "      <th>bundleId</th>\n",
       "      <th>trackId</th>\n",
       "      <th>trackName</th>\n",
       "      <th>releaseDate</th>\n",
       "      <th>primaryGenreName</th>\n",
       "      <th>genreIds</th>\n",
       "      <th>isVppDeviceBasedLicensingEnabled</th>\n",
       "      <th>currentVersionReleaseDate</th>\n",
       "      <th>sellerName</th>\n",
       "      <th>releaseNotes</th>\n",
       "      <th>primaryGenreId</th>\n",
       "      <th>currency</th>\n",
       "      <th>description</th>\n",
       "      <th>artistId</th>\n",
       "      <th>artistName</th>\n",
       "      <th>genres</th>\n",
       "      <th>price</th>\n",
       "      <th>version</th>\n",
       "      <th>wrapperType</th>\n",
       "      <th>userRatingCount</th>\n",
       "    </tr>\n",
       "  </thead>\n",
       "  <tbody>\n",
       "    <tr>\n",
       "      <th>0</th>\n",
       "      <td>https://is4-ssl.mzstatic.com/image/thumb/Purpl...</td>\n",
       "      <td>https://is4-ssl.mzstatic.com/image/thumb/Purpl...</td>\n",
       "      <td></td>\n",
       "      <td>https://is4-ssl.mzstatic.com/image/thumb/Purpl...</td>\n",
       "      <td>https://is4-ssl.mzstatic.com/image/thumb/Purpl...</td>\n",
       "      <td>https://is4-ssl.mzstatic.com/image/thumb/Purpl...</td>\n",
       "      <td>https://apps.apple.com/nl/developer/groop-inte...</td>\n",
       "      <td>iosUniversal</td>\n",
       "      <td>False</td>\n",
       "      <td>iPhone5s-iPhone5s,iPadAir-iPadAir,iPadAirCellu...</td>\n",
       "      <td>Soms/Milde medische/behandelingsinformatie,Som...</td>\n",
       "      <td>software</td>\n",
       "      <td>13.0</td>\n",
       "      <td>Talkspace Therapy &amp; Counseling</td>\n",
       "      <td>EN</td>\n",
       "      <td>109459456</td>\n",
       "      <td>https://www.talkspace.com</td>\n",
       "      <td>Gratis</td>\n",
       "      <td>12+</td>\n",
       "      <td>0</td>\n",
       "      <td>0</td>\n",
       "      <td>0</td>\n",
       "      <td>https://apps.apple.com/nl/app/talkspace-therap...</td>\n",
       "      <td>12+</td>\n",
       "      <td>com.talktala.talktala</td>\n",
       "      <td>661829386</td>\n",
       "      <td>Talkspace Therapy &amp; Counseling</td>\n",
       "      <td>2013-07-11T17:51:11Z</td>\n",
       "      <td>Health &amp; Fitness</td>\n",
       "      <td>6013,6020</td>\n",
       "      <td>True</td>\n",
       "      <td>2022-02-02T17:44:11Z</td>\n",
       "      <td>Groop Internet Platform inc.</td>\n",
       "      <td>This release improves performance on certain d...</td>\n",
       "      <td>6013</td>\n",
       "      <td>EUR</td>\n",
       "      <td>Talkspace is the most convenient and affordabl...</td>\n",
       "      <td>661829389</td>\n",
       "      <td>Groop Internet Platform inc.</td>\n",
       "      <td>Gezondheid en fitness,Geneeskunde</td>\n",
       "      <td>0.0</td>\n",
       "      <td>8.92.85</td>\n",
       "      <td>software</td>\n",
       "      <td>0</td>\n",
       "    </tr>\n",
       "  </tbody>\n",
       "</table>\n",
       "</div>"
      ],
      "text/plain": [
       "                                      screenshotUrls  \\\n",
       "0  https://is4-ssl.mzstatic.com/image/thumb/Purpl...   \n",
       "\n",
       "                                  ipadScreenshotUrls appletvScreenshotUrls  \\\n",
       "0  https://is4-ssl.mzstatic.com/image/thumb/Purpl...                         \n",
       "\n",
       "                                        artworkUrl60  \\\n",
       "0  https://is4-ssl.mzstatic.com/image/thumb/Purpl...   \n",
       "\n",
       "                                       artworkUrl512  \\\n",
       "0  https://is4-ssl.mzstatic.com/image/thumb/Purpl...   \n",
       "\n",
       "                                       artworkUrl100  \\\n",
       "0  https://is4-ssl.mzstatic.com/image/thumb/Purpl...   \n",
       "\n",
       "                                       artistViewUrl      features  \\\n",
       "0  https://apps.apple.com/nl/developer/groop-inte...  iosUniversal   \n",
       "\n",
       "   isGameCenterEnabled                                   supportedDevices  \\\n",
       "0                False  iPhone5s-iPhone5s,iPadAir-iPadAir,iPadAirCellu...   \n",
       "\n",
       "                                          advisories      kind  \\\n",
       "0  Soms/Milde medische/behandelingsinformatie,Som...  software   \n",
       "\n",
       "  minimumOsVersion               trackCensoredName languageCodesISO2A  \\\n",
       "0             13.0  Talkspace Therapy & Counseling                 EN   \n",
       "\n",
       "  fileSizeBytes                  sellerUrl formattedPrice  \\\n",
       "0     109459456  https://www.talkspace.com         Gratis   \n",
       "\n",
       "  contentAdvisoryRating  averageUserRatingForCurrentVersion  \\\n",
       "0                   12+                                   0   \n",
       "\n",
       "   userRatingCountForCurrentVersion  averageUserRating  \\\n",
       "0                                 0                  0   \n",
       "\n",
       "                                        trackViewUrl trackContentRating  \\\n",
       "0  https://apps.apple.com/nl/app/talkspace-therap...                12+   \n",
       "\n",
       "                bundleId    trackId                       trackName  \\\n",
       "0  com.talktala.talktala  661829386  Talkspace Therapy & Counseling   \n",
       "\n",
       "            releaseDate  primaryGenreName   genreIds  \\\n",
       "0  2013-07-11T17:51:11Z  Health & Fitness  6013,6020   \n",
       "\n",
       "   isVppDeviceBasedLicensingEnabled currentVersionReleaseDate  \\\n",
       "0                              True      2022-02-02T17:44:11Z   \n",
       "\n",
       "                     sellerName  \\\n",
       "0  Groop Internet Platform inc.   \n",
       "\n",
       "                                        releaseNotes  primaryGenreId currency  \\\n",
       "0  This release improves performance on certain d...            6013      EUR   \n",
       "\n",
       "                                         description   artistId  \\\n",
       "0  Talkspace is the most convenient and affordabl...  661829389   \n",
       "\n",
       "                     artistName                             genres  price  \\\n",
       "0  Groop Internet Platform inc.  Gezondheid en fitness,Geneeskunde    0.0   \n",
       "\n",
       "   version wrapperType  userRatingCount  \n",
       "0  8.92.85    software                0  "
      ]
     },
     "execution_count": 14,
     "metadata": {},
     "output_type": "execute_result"
    }
   ],
   "source": [
    "df = pd.DataFrame(data)"
   ]
  },
  {
   "cell_type": "code",
   "execution_count": null,
   "id": "ca41d85d",
   "metadata": {},
   "outputs": [],
   "source": [
    "#end of rows to potentially delete"
   ]
  }
 ],
 "metadata": {
  "kernelspec": {
   "display_name": "Python 3 (ipykernel)",
   "language": "python",
   "name": "python3"
  },
  "language_info": {
   "codemirror_mode": {
    "name": "ipython",
    "version": 3
   },
   "file_extension": ".py",
   "mimetype": "text/x-python",
   "name": "python",
   "nbconvert_exporter": "python",
   "pygments_lexer": "ipython3",
   "version": "3.10.0"
  }
 },
 "nbformat": 4,
 "nbformat_minor": 5
}
